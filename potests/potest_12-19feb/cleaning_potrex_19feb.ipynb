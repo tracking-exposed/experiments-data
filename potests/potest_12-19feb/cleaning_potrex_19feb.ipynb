{
 "cells": [
  {
   "cell_type": "code",
   "execution_count": 1,
   "metadata": {},
   "outputs": [],
   "source": [
    "import pandas as pd\n",
    "from datetime import datetime\n",
    "import matplotlib\n",
    "import matplotlib.pyplot as plt\n",
    "import numpy as np"
   ]
  },
  {
   "cell_type": "code",
   "execution_count": 6,
   "metadata": {},
   "outputs": [],
   "source": [
    "dataset = pd.read_csv(\"search_homes.csv\")"
   ]
  },
  {
   "cell_type": "code",
   "execution_count": 7,
   "metadata": {},
   "outputs": [
    {
     "data": {
      "text/html": [
       "<div>\n",
       "<style scoped>\n",
       "    .dataframe tbody tr th:only-of-type {\n",
       "        vertical-align: middle;\n",
       "    }\n",
       "\n",
       "    .dataframe tbody tr th {\n",
       "        vertical-align: top;\n",
       "    }\n",
       "\n",
       "    .dataframe thead th {\n",
       "        text-align: right;\n",
       "    }\n",
       "</style>\n",
       "<table border=\"1\" class=\"dataframe\">\n",
       "  <thead>\n",
       "    <tr style=\"text-align: right;\">\n",
       "      <th></th>\n",
       "      <th>title</th>\n",
       "      <th>authorName</th>\n",
       "      <th>authorLink</th>\n",
       "      <th>durationSeconds</th>\n",
       "      <th>publisherType</th>\n",
       "      <th>duration</th>\n",
       "      <th>views</th>\n",
       "      <th>value</th>\n",
       "      <th>href</th>\n",
       "      <th>videoId</th>\n",
       "      <th>...</th>\n",
       "      <th>videoOrder</th>\n",
       "      <th>metadataId</th>\n",
       "      <th>site</th>\n",
       "      <th>suppseudo</th>\n",
       "      <th>profileStory</th>\n",
       "      <th>savingTime</th>\n",
       "      <th>id</th>\n",
       "      <th>who</th>\n",
       "      <th>categorylist</th>\n",
       "      <th>macrolist</th>\n",
       "    </tr>\n",
       "  </thead>\n",
       "  <tbody>\n",
       "    <tr>\n",
       "      <th>0</th>\n",
       "      <td>I gave my friend’s big dick to my wife on her ...</td>\n",
       "      <td>Candy Kitty</td>\n",
       "      <td>/model/candy-kitty</td>\n",
       "      <td>785</td>\n",
       "      <td>model</td>\n",
       "      <td>13:05</td>\n",
       "      <td>1400000</td>\n",
       "      <td>75</td>\n",
       "      <td>/view_video.php?viewkey=ph5fd546c07cdf5</td>\n",
       "      <td>ph5fd546c07cdf5</td>\n",
       "      <td>...</td>\n",
       "      <td>1</td>\n",
       "      <td>7a016507f3834c7cd0a3569d5ea16f2912435bcb</td>\n",
       "      <td>www</td>\n",
       "      <td>E31uv1</td>\n",
       "      <td>-1</td>\n",
       "      <td>2021-02-19T17:40:06.099Z</td>\n",
       "      <td>17a01650</td>\n",
       "      <td>10</td>\n",
       "      <td>60FPS+Amateur+Blowjob+Cuckold+Cumshot+Exclusiv...</td>\n",
       "      <td>Format-Format-Practices-Fantasies-Practices-Fo...</td>\n",
       "    </tr>\n",
       "    <tr>\n",
       "      <th>1</th>\n",
       "      <td>Threesome with two co-workers while my husband...</td>\n",
       "      <td>Saori Hotwife</td>\n",
       "      <td>/model/saori-hotwife</td>\n",
       "      <td>1357</td>\n",
       "      <td>model</td>\n",
       "      <td>22:37</td>\n",
       "      <td>1800000</td>\n",
       "      <td>68</td>\n",
       "      <td>/view_video.php?viewkey=ph5e7959988e6b4</td>\n",
       "      <td>ph5e7959988e6b4</td>\n",
       "      <td>...</td>\n",
       "      <td>2</td>\n",
       "      <td>7a016507f3834c7cd0a3569d5ea16f2912435bcb</td>\n",
       "      <td>www</td>\n",
       "      <td>E31uv1</td>\n",
       "      <td>-1</td>\n",
       "      <td>2021-02-19T17:40:06.099Z</td>\n",
       "      <td>27a01650</td>\n",
       "      <td>10</td>\n",
       "      <td>Amateur+Blowjob+Creampie+Cuckold+Exclusive+FMM...</td>\n",
       "      <td>Format-Practices-Practices-Fantasies-Format-Pr...</td>\n",
       "    </tr>\n",
       "    <tr>\n",
       "      <th>2</th>\n",
       "      <td>My pussy squirts so much and so hot that i mak...</td>\n",
       "      <td>Kukina Squirt</td>\n",
       "      <td>/model/kukina-squirt</td>\n",
       "      <td>1124</td>\n",
       "      <td>model</td>\n",
       "      <td>18:44</td>\n",
       "      <td>2300000</td>\n",
       "      <td>84</td>\n",
       "      <td>/view_video.php?viewkey=ph5f4a77e56a955</td>\n",
       "      <td>ph5f4a77e56a955</td>\n",
       "      <td>...</td>\n",
       "      <td>3</td>\n",
       "      <td>7a016507f3834c7cd0a3569d5ea16f2912435bcb</td>\n",
       "      <td>www</td>\n",
       "      <td>E31uv1</td>\n",
       "      <td>-1</td>\n",
       "      <td>2021-02-19T17:40:06.099Z</td>\n",
       "      <td>37a01650</td>\n",
       "      <td>10</td>\n",
       "      <td>Amateur+Cumshot+Exclusive+Female Orgasm+HD Por...</td>\n",
       "      <td>Format-Practices-Format-Practices-Format-Fanta...</td>\n",
       "    </tr>\n",
       "    <tr>\n",
       "      <th>3</th>\n",
       "      <td>Artemisia Love’s debut with Romeo Mancini for ...</td>\n",
       "      <td>Pinko Club</td>\n",
       "      <td>/channels/pinko-club</td>\n",
       "      <td>722</td>\n",
       "      <td>channels</td>\n",
       "      <td>12:02</td>\n",
       "      <td>100000</td>\n",
       "      <td>86</td>\n",
       "      <td>/view_video.php?viewkey=ph601c063241fcb</td>\n",
       "      <td>ph601c063241fcb</td>\n",
       "      <td>...</td>\n",
       "      <td>4</td>\n",
       "      <td>7a016507f3834c7cd0a3569d5ea16f2912435bcb</td>\n",
       "      <td>www</td>\n",
       "      <td>E31uv1</td>\n",
       "      <td>-1</td>\n",
       "      <td>2021-02-19T17:40:06.099Z</td>\n",
       "      <td>47a01650</td>\n",
       "      <td>10</td>\n",
       "      <td>Babe+Blowjob+HD Porn+Italian+Pornstar+Red Head</td>\n",
       "      <td>Appearance-Practices-Format-Appearance-Format-...</td>\n",
       "    </tr>\n",
       "    <tr>\n",
       "      <th>4</th>\n",
       "      <td>Lo prende fino in fondo e gode. Figa bagnata. ...</td>\n",
       "      <td>Amanda and Joe</td>\n",
       "      <td>/model/amanda-and-joe</td>\n",
       "      <td>1102</td>\n",
       "      <td>model</td>\n",
       "      <td>18:22</td>\n",
       "      <td>116000</td>\n",
       "      <td>83</td>\n",
       "      <td>/view_video.php?viewkey=ph600c6ce5e96c5</td>\n",
       "      <td>ph600c6ce5e96c5</td>\n",
       "      <td>...</td>\n",
       "      <td>5</td>\n",
       "      <td>7a016507f3834c7cd0a3569d5ea16f2912435bcb</td>\n",
       "      <td>www</td>\n",
       "      <td>E31uv1</td>\n",
       "      <td>-1</td>\n",
       "      <td>2021-02-19T17:40:06.099Z</td>\n",
       "      <td>57a01650</td>\n",
       "      <td>10</td>\n",
       "      <td>60FPS+Amateur+Cumshot+Exclusive+HD Porn+Italia...</td>\n",
       "      <td>Format-Format-Practices-Format-Format-Appearan...</td>\n",
       "    </tr>\n",
       "  </tbody>\n",
       "</table>\n",
       "<p>5 rows × 23 columns</p>\n",
       "</div>"
      ],
      "text/plain": [
       "                                               title      authorName  \\\n",
       "0  I gave my friend’s big dick to my wife on her ...     Candy Kitty   \n",
       "1  Threesome with two co-workers while my husband...   Saori Hotwife   \n",
       "2  My pussy squirts so much and so hot that i mak...   Kukina Squirt   \n",
       "3  Artemisia Love’s debut with Romeo Mancini for ...      Pinko Club   \n",
       "4  Lo prende fino in fondo e gode. Figa bagnata. ...  Amanda and Joe   \n",
       "\n",
       "              authorLink  durationSeconds publisherType duration    views  \\\n",
       "0     /model/candy-kitty              785         model    13:05  1400000   \n",
       "1   /model/saori-hotwife             1357         model    22:37  1800000   \n",
       "2   /model/kukina-squirt             1124         model    18:44  2300000   \n",
       "3   /channels/pinko-club              722      channels    12:02   100000   \n",
       "4  /model/amanda-and-joe             1102         model    18:22   116000   \n",
       "\n",
       "   value                                     href          videoId  ...  \\\n",
       "0     75  /view_video.php?viewkey=ph5fd546c07cdf5  ph5fd546c07cdf5  ...   \n",
       "1     68  /view_video.php?viewkey=ph5e7959988e6b4  ph5e7959988e6b4  ...   \n",
       "2     84  /view_video.php?viewkey=ph5f4a77e56a955  ph5f4a77e56a955  ...   \n",
       "3     86  /view_video.php?viewkey=ph601c063241fcb  ph601c063241fcb  ...   \n",
       "4     83  /view_video.php?viewkey=ph600c6ce5e96c5  ph600c6ce5e96c5  ...   \n",
       "\n",
       "   videoOrder                                metadataId site  suppseudo  \\\n",
       "0           1  7a016507f3834c7cd0a3569d5ea16f2912435bcb  www     E31uv1   \n",
       "1           2  7a016507f3834c7cd0a3569d5ea16f2912435bcb  www     E31uv1   \n",
       "2           3  7a016507f3834c7cd0a3569d5ea16f2912435bcb  www     E31uv1   \n",
       "3           4  7a016507f3834c7cd0a3569d5ea16f2912435bcb  www     E31uv1   \n",
       "4           5  7a016507f3834c7cd0a3569d5ea16f2912435bcb  www     E31uv1   \n",
       "\n",
       "  profileStory                savingTime        id  who  \\\n",
       "0           -1  2021-02-19T17:40:06.099Z  17a01650   10   \n",
       "1           -1  2021-02-19T17:40:06.099Z  27a01650   10   \n",
       "2           -1  2021-02-19T17:40:06.099Z  37a01650   10   \n",
       "3           -1  2021-02-19T17:40:06.099Z  47a01650   10   \n",
       "4           -1  2021-02-19T17:40:06.099Z  57a01650   10   \n",
       "\n",
       "                                        categorylist  \\\n",
       "0  60FPS+Amateur+Blowjob+Cuckold+Cumshot+Exclusiv...   \n",
       "1  Amateur+Blowjob+Creampie+Cuckold+Exclusive+FMM...   \n",
       "2  Amateur+Cumshot+Exclusive+Female Orgasm+HD Por...   \n",
       "3     Babe+Blowjob+HD Porn+Italian+Pornstar+Red Head   \n",
       "4  60FPS+Amateur+Cumshot+Exclusive+HD Porn+Italia...   \n",
       "\n",
       "                                           macrolist  \n",
       "0  Format-Format-Practices-Fantasies-Practices-Fo...  \n",
       "1  Format-Practices-Practices-Fantasies-Format-Pr...  \n",
       "2  Format-Practices-Format-Practices-Format-Fanta...  \n",
       "3  Appearance-Practices-Format-Appearance-Format-...  \n",
       "4  Format-Format-Practices-Format-Format-Appearan...  \n",
       "\n",
       "[5 rows x 23 columns]"
      ]
     },
     "execution_count": 7,
     "metadata": {},
     "output_type": "execute_result"
    }
   ],
   "source": [
    "dataset.head()"
   ]
  },
  {
   "cell_type": "code",
   "execution_count": 8,
   "metadata": {},
   "outputs": [
    {
     "data": {
      "text/plain": [
       "title              object\n",
       "authorName         object\n",
       "authorLink         object\n",
       "durationSeconds     int64\n",
       "publisherType      object\n",
       "duration           object\n",
       "views               int64\n",
       "value               int64\n",
       "href               object\n",
       "videoId            object\n",
       "sectionOrder        int64\n",
       "sectionName        object\n",
       "sectionHref        object\n",
       "videoOrder          int64\n",
       "metadataId         object\n",
       "site               object\n",
       "suppseudo          object\n",
       "profileStory        int64\n",
       "savingTime         object\n",
       "id                 object\n",
       "who                object\n",
       "categorylist       object\n",
       "macrolist          object\n",
       "dtype: object"
      ]
     },
     "execution_count": 8,
     "metadata": {},
     "output_type": "execute_result"
    }
   ],
   "source": [
    "dataset.dtypes\n"
   ]
  },
  {
   "cell_type": "markdown",
   "metadata": {},
   "source": [
    "## data cast"
   ]
  },
  {
   "cell_type": "code",
   "execution_count": 9,
   "metadata": {},
   "outputs": [],
   "source": [
    "dataset[\"savingTime\"]= pd.to_datetime(dataset.savingTime)\n"
   ]
  },
  {
   "cell_type": "code",
   "execution_count": 10,
   "metadata": {},
   "outputs": [
    {
     "data": {
      "text/plain": [
       "title                 0\n",
       "authorName            0\n",
       "authorLink            0\n",
       "durationSeconds       0\n",
       "publisherType         0\n",
       "duration              0\n",
       "views                 0\n",
       "value                 0\n",
       "href                  0\n",
       "videoId               0\n",
       "sectionOrder          0\n",
       "sectionName           0\n",
       "sectionHref           0\n",
       "videoOrder            0\n",
       "metadataId            0\n",
       "site                  0\n",
       "suppseudo             0\n",
       "profileStory          0\n",
       "savingTime            0\n",
       "id                    0\n",
       "who                   0\n",
       "categorylist       1286\n",
       "macrolist          1286\n",
       "dtype: int64"
      ]
     },
     "execution_count": 10,
     "metadata": {},
     "output_type": "execute_result"
    }
   ],
   "source": [
    "dataset.isna().sum()"
   ]
  },
  {
   "cell_type": "code",
   "execution_count": 11,
   "metadata": {},
   "outputs": [],
   "source": [
    "dataset = dataset.fillna(\"\")"
   ]
  },
  {
   "cell_type": "markdown",
   "metadata": {},
   "source": [
    "## Removing \"tre\" from users and cast others to int"
   ]
  },
  {
   "cell_type": "code",
   "execution_count": 12,
   "metadata": {},
   "outputs": [],
   "source": [
    "dataset = dataset[dataset.who != \"tre\"] "
   ]
  },
  {
   "cell_type": "code",
   "execution_count": 13,
   "metadata": {},
   "outputs": [],
   "source": [
    "dataset[\"who\"] = dataset.who.astype(int)"
   ]
  },
  {
   "cell_type": "code",
   "execution_count": 14,
   "metadata": {},
   "outputs": [
    {
     "data": {
      "text/plain": [
       "{1, 2, 3, 4, 5, 6, 7, 8, 9, 10, 11, 12, 13, 14, 15, 16}"
      ]
     },
     "execution_count": 14,
     "metadata": {},
     "output_type": "execute_result"
    }
   ],
   "source": [
    "set(dataset.who)"
   ]
  },
  {
   "cell_type": "code",
   "execution_count": 15,
   "metadata": {},
   "outputs": [
    {
     "data": {
      "text/plain": [
       "{4, 5, 12, 13, 14, 15, 16, 17, 18, 19}"
      ]
     },
     "execution_count": 15,
     "metadata": {},
     "output_type": "execute_result"
    }
   ],
   "source": [
    "set(dataset.savingTime.dt.day)"
   ]
  },
  {
   "cell_type": "markdown",
   "metadata": {},
   "source": [
    "## removing errors "
   ]
  },
  {
   "cell_type": "code",
   "execution_count": 16,
   "metadata": {},
   "outputs": [],
   "source": [
    "dataset = dataset[(dataset.savingTime.dt.day >= 12) & (dataset.savingTime.dt.day != 14)]"
   ]
  },
  {
   "cell_type": "code",
   "execution_count": 17,
   "metadata": {},
   "outputs": [],
   "source": [
    "dataset_output = pd.DataFrame(columns=dataset.columns)"
   ]
  },
  {
   "cell_type": "markdown",
   "metadata": {},
   "source": [
    "## same number of unique homepages"
   ]
  },
  {
   "cell_type": "code",
   "execution_count": 18,
   "metadata": {},
   "outputs": [
    {
     "name": "stdout",
     "output_type": "stream",
     "text": [
      "For day 12 user 1 has 7 unique homepages\n",
      "For day 13 user 1 has 7 unique homepages\n",
      "For day 15 user 1 has 7 unique homepages\n",
      "For day 16 user 1 has 7 unique homepages\n",
      "For day 17 user 1 has 7 unique homepages\n",
      "For day 18 user 1 has 7 unique homepages\n",
      "For day 19 user 1 has 7 unique homepages\n",
      "For day 12 user 2 has 7 unique homepages\n",
      "For day 13 user 2 has 7 unique homepages\n",
      "For day 15 user 2 has 7 unique homepages\n",
      "For day 16 user 2 has 7 unique homepages\n",
      "For day 17 user 2 has 7 unique homepages\n",
      "For day 18 user 2 has 7 unique homepages\n",
      "For day 19 user 2 has 7 unique homepages\n",
      "For day 12 user 3 has 7 unique homepages\n",
      "For day 13 user 3 has 7 unique homepages\n",
      "For day 15 user 3 has 7 unique homepages\n",
      "For day 16 user 3 has 7 unique homepages\n",
      "For day 17 user 3 has 7 unique homepages\n",
      "For day 18 user 3 has 7 unique homepages\n",
      "For day 19 user 3 has 7 unique homepages\n",
      "For day 12 user 4 has 7 unique homepages\n",
      "For day 13 user 4 has 7 unique homepages\n",
      "For day 15 user 4 has 7 unique homepages\n",
      "For day 16 user 4 has 7 unique homepages\n",
      "For day 17 user 4 has 7 unique homepages\n",
      "For day 18 user 4 has 7 unique homepages\n",
      "For day 19 user 4 has 7 unique homepages\n",
      "For day 12 user 5 has 7 unique homepages\n",
      "For day 13 user 5 has 7 unique homepages\n",
      "For day 15 user 5 has 7 unique homepages\n",
      "For day 16 user 5 has 7 unique homepages\n",
      "For day 17 user 5 has 7 unique homepages\n",
      "For day 18 user 5 has 7 unique homepages\n",
      "For day 19 user 5 has 7 unique homepages\n",
      "For day 12 user 6 has 7 unique homepages\n",
      "For day 13 user 6 has 7 unique homepages\n",
      "For day 15 user 6 has 7 unique homepages\n",
      "For day 16 user 6 has 7 unique homepages\n",
      "For day 17 user 6 has 7 unique homepages\n",
      "For day 18 user 6 has 7 unique homepages\n",
      "For day 19 user 6 has 7 unique homepages\n",
      "For day 12 user 7 has 7 unique homepages\n",
      "For day 13 user 7 has 7 unique homepages\n",
      "For day 15 user 7 has 7 unique homepages\n",
      "For day 16 user 7 has 7 unique homepages\n",
      "For day 17 user 7 has 7 unique homepages\n",
      "For day 18 user 7 has 7 unique homepages\n",
      "For day 19 user 7 has 7 unique homepages\n",
      "For day 12 user 8 has 7 unique homepages\n",
      "For day 13 user 8 has 7 unique homepages\n",
      "For day 15 user 8 has 7 unique homepages\n",
      "For day 16 user 8 has 7 unique homepages\n",
      "For day 18 user 8 has 7 unique homepages\n",
      "For day 19 user 8 has 7 unique homepages\n",
      "For day 12 user 9 has 7 unique homepages\n",
      "For day 13 user 9 has 7 unique homepages\n",
      "For day 15 user 9 has 7 unique homepages\n",
      "For day 16 user 9 has 7 unique homepages\n",
      "For day 17 user 9 has 7 unique homepages\n",
      "For day 18 user 9 has 7 unique homepages\n",
      "For day 19 user 9 has 7 unique homepages\n",
      "For day 12 user 10 has 7 unique homepages\n",
      "For day 13 user 10 has 7 unique homepages\n",
      "For day 15 user 10 has 7 unique homepages\n",
      "For day 16 user 10 has 7 unique homepages\n",
      "For day 17 user 10 has 7 unique homepages\n",
      "For day 18 user 10 has 7 unique homepages\n",
      "For day 19 user 10 has 7 unique homepages\n",
      "For day 12 user 11 has 7 unique homepages\n",
      "For day 13 user 11 has 7 unique homepages\n",
      "For day 15 user 11 has 7 unique homepages\n",
      "For day 16 user 11 has 7 unique homepages\n",
      "For day 17 user 11 has 7 unique homepages\n",
      "For day 18 user 11 has 7 unique homepages\n",
      "For day 19 user 11 has 7 unique homepages\n",
      "For day 12 user 12 has 7 unique homepages\n",
      "For day 13 user 12 has 7 unique homepages\n",
      "For day 15 user 12 has 7 unique homepages\n",
      "For day 16 user 12 has 7 unique homepages\n",
      "For day 17 user 12 has 7 unique homepages\n",
      "For day 18 user 12 has 7 unique homepages\n",
      "For day 19 user 12 has 7 unique homepages\n",
      "For day 12 user 13 has 7 unique homepages\n",
      "For day 13 user 13 has 7 unique homepages\n",
      "For day 15 user 13 has 7 unique homepages\n",
      "For day 16 user 13 has 7 unique homepages\n",
      "For day 17 user 13 has 7 unique homepages\n",
      "For day 18 user 13 has 7 unique homepages\n",
      "For day 19 user 13 has 7 unique homepages\n",
      "For day 12 user 14 has 7 unique homepages\n",
      "For day 13 user 14 has 7 unique homepages\n",
      "For day 15 user 14 has 7 unique homepages\n",
      "For day 16 user 14 has 7 unique homepages\n",
      "For day 17 user 14 has 7 unique homepages\n",
      "For day 18 user 14 has 7 unique homepages\n",
      "For day 19 user 14 has 7 unique homepages\n",
      "For day 12 user 15 has 7 unique homepages\n",
      "For day 13 user 15 has 7 unique homepages\n",
      "For day 15 user 15 has 7 unique homepages\n",
      "For day 16 user 15 has 7 unique homepages\n",
      "For day 17 user 15 has 7 unique homepages\n",
      "For day 18 user 15 has 7 unique homepages\n",
      "For day 19 user 15 has 7 unique homepages\n",
      "For day 12 user 16 has 7 unique homepages\n",
      "For day 13 user 16 has 7 unique homepages\n",
      "For day 15 user 16 has 7 unique homepages\n",
      "For day 16 user 16 has 7 unique homepages\n",
      "For day 17 user 16 has 7 unique homepages\n",
      "For day 18 user 16 has 7 unique homepages\n",
      "For day 19 user 16 has 7 unique homepages\n"
     ]
    }
   ],
   "source": [
    "for user in set(dataset.who):\n",
    "    dataset_user = dataset[dataset.who == user]\n",
    "    for day in set(dataset_user.savingTime.dt.day):\n",
    "        dataset_day = dataset_user[dataset_user.savingTime.dt.day == day]\n",
    "        dataset_hour = dataset_day[dataset_day.savingTime.dt.hour >= 17]\n",
    "        different_ts = set(dataset_hour.savingTime)\n",
    "        dataset_final = dataset_hour[dataset_hour.savingTime.isin(list(different_ts)[:7])]\n",
    "        print(f\"For day {day} user {user} has {len(set(dataset_final.savingTime))} unique homepages\")\n",
    "        dataset_output = dataset_output.append(dataset_final)"
   ]
  },
  {
   "cell_type": "markdown",
   "metadata": {},
   "source": [
    "## asssign gender and sexuality"
   ]
  },
  {
   "cell_type": "code",
   "execution_count": 19,
   "metadata": {},
   "outputs": [],
   "source": [
    "dataset_output.loc[dataset_output.who == 1,\"gender\"] = \"Nessuno\"\n",
    "dataset_output.loc[dataset_output.who == 2,\"gender\"] = \"Nessuno\"\n",
    "dataset_output.loc[dataset_output.who == 3,\"gender\"] = \"Nessuno\"\n",
    "dataset_output.loc[dataset_output.who == 4,\"gender\"] = \"Maschio\"\n",
    "dataset_output.loc[dataset_output.who == 5,\"gender\"] = \"Maschio\"\n",
    "dataset_output.loc[dataset_output.who == 6,\"gender\"] = \"Maschio\"\n",
    "dataset_output.loc[dataset_output.who == 7,\"gender\"] = \"Femmina\"\n",
    "dataset_output.loc[dataset_output.who == 8,\"gender\"] = \"Femmina\"\n",
    "dataset_output.loc[dataset_output.who == 9,\"gender\"] = \"Femmina\"\n",
    "dataset_output.loc[dataset_output.who == 10,\"gender\"] = \"Coppia\"\n",
    "dataset_output.loc[dataset_output.who == 11,\"gender\"] = \"Coppia Donne\"\n",
    "dataset_output.loc[dataset_output.who == 12,\"gender\"] = \"Coppia Uomini\"\n",
    "dataset_output.loc[dataset_output.who == 13,\"gender\"] = \"Uomo Trans\"\n",
    "dataset_output.loc[dataset_output.who == 14,\"gender\"] = \"Donna Trans\"\n",
    "dataset_output.loc[dataset_output.who == 15,\"gender\"] = \"Altro\"\n",
    "dataset_output.loc[dataset_output.who == 16,\"gender\"] = \"NonBinario\""
   ]
  },
  {
   "cell_type": "code",
   "execution_count": 20,
   "metadata": {},
   "outputs": [],
   "source": [
    "dataset_output.loc[dataset_output.who == 1,\"orientamento\"] = \"Ragazze\"\n",
    "dataset_output.loc[dataset_output.who == 2,\"orientamento\"] = \"Ragazzi\"\n",
    "dataset_output.loc[dataset_output.who == 3,\"orientamento\"] = \"Ragazzi e Ragazze\"\n",
    "dataset_output.loc[dataset_output.who == 4,\"orientamento\"] = \"Ragazze\"\n",
    "dataset_output.loc[dataset_output.who == 5,\"orientamento\"] = \"Ragazzi\"\n",
    "dataset_output.loc[dataset_output.who == 6,\"orientamento\"] = \"Ragazzi e Ragazze\"\n",
    "dataset_output.loc[dataset_output.who == 7,\"orientamento\"] = \"Ragazze\"\n",
    "dataset_output.loc[dataset_output.who == 8,\"orientamento\"] = \"Ragazzi\"\n",
    "dataset_output.loc[dataset_output.who == 9,\"orientamento\"] = \"Ragazzi e Ragazze\"\n",
    "dataset_output.loc[dataset_output.who == 10,\"orientamento\"] = \"Ragazze\"\n",
    "dataset_output.loc[dataset_output.who == 11,\"orientamento\"] = \"Ragazze\"\n",
    "dataset_output.loc[dataset_output.who == 12,\"orientamento\"] = \"Ragazze\"\n",
    "dataset_output.loc[dataset_output.who == 13,\"orientamento\"] = \"Ragazze\"\n",
    "dataset_output.loc[dataset_output.who == 14,\"orientamento\"] = \"Ragazze\"\n",
    "dataset_output.loc[dataset_output.who == 15,\"orientamento\"] = \"Ragazze\"\n",
    "dataset_output.loc[dataset_output.who == 16,\"orientamento\"] = \"Ragazze\"\n",
    "\n"
   ]
  },
  {
   "cell_type": "markdown",
   "metadata": {},
   "source": [
    "## export clean dataset"
   ]
  },
  {
   "cell_type": "code",
   "execution_count": 21,
   "metadata": {},
   "outputs": [],
   "source": [
    "dataset_output.to_csv(\"search_homes_clean.csv\", index = False)"
   ]
  },
  {
   "cell_type": "code",
   "execution_count": null,
   "metadata": {},
   "outputs": [],
   "source": []
  }
 ],
 "metadata": {
  "kernelspec": {
   "display_name": "Python 3",
   "language": "python",
   "name": "python3"
  },
  "language_info": {
   "codemirror_mode": {
    "name": "ipython",
    "version": 3
   },
   "file_extension": ".py",
   "mimetype": "text/x-python",
   "name": "python",
   "nbconvert_exporter": "python",
   "pygments_lexer": "ipython3",
   "version": "3.7.3"
  }
 },
 "nbformat": 4,
 "nbformat_minor": 2
}
