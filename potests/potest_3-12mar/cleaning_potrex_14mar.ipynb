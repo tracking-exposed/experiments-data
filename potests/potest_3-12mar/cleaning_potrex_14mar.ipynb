{
 "cells": [
  {
   "cell_type": "code",
   "execution_count": 2,
   "metadata": {},
   "outputs": [],
   "source": [
    "import pandas as pd\n",
    "from datetime import datetime\n",
    "import matplotlib\n",
    "import matplotlib.pyplot as plt\n",
    "import numpy as np"
   ]
  },
  {
   "cell_type": "code",
   "execution_count": 3,
   "metadata": {},
   "outputs": [],
   "source": [
    "dataset = pd.read_csv(\"double124468.csv\")"
   ]
  },
  {
   "cell_type": "code",
   "execution_count": 4,
   "metadata": {},
   "outputs": [
    {
     "data": {
      "text/plain": [
       "124468"
      ]
     },
     "execution_count": 4,
     "metadata": {},
     "output_type": "execute_result"
    }
   ],
   "source": [
    "len(dataset)"
   ]
  },
  {
   "cell_type": "code",
   "execution_count": 5,
   "metadata": {},
   "outputs": [
    {
     "data": {
      "text/plain": [
       "{'10_2',\n",
       " '11_2',\n",
       " '12_2',\n",
       " '13_2',\n",
       " '14_2',\n",
       " '15_2',\n",
       " '16_2',\n",
       " '1_2',\n",
       " '2_2',\n",
       " '3_2',\n",
       " '4_2',\n",
       " '5_2',\n",
       " '6_2',\n",
       " '7_2',\n",
       " '8_2',\n",
       " '9_2a',\n",
       " '9_2b'}"
      ]
     },
     "execution_count": 5,
     "metadata": {},
     "output_type": "execute_result"
    }
   ],
   "source": [
    "set(dataset.who)"
   ]
  },
  {
   "cell_type": "code",
   "execution_count": 6,
   "metadata": {},
   "outputs": [],
   "source": [
    "dataset.loc[dataset.who == \"9_2b\", \"who\"] = \"9_2\"\n",
    "dataset.loc[dataset.who == \"9_2a\", \"who\"] = \"9_2\""
   ]
  },
  {
   "cell_type": "code",
   "execution_count": 7,
   "metadata": {},
   "outputs": [],
   "source": [
    "dataset[\"savingTime\"]= pd.to_datetime(dataset.savingTime)"
   ]
  },
  {
   "cell_type": "code",
   "execution_count": 8,
   "metadata": {},
   "outputs": [
    {
     "data": {
      "text/plain": [
       "Index(['title', 'authorName', 'authorLink', 'durationSeconds', 'publisherType',\n",
       "       'duration', 'views', 'value', 'href', 'videoId', 'sectionOrder',\n",
       "       'sectionName', 'sectionHref', 'videoOrder', 'metadataId', 'site',\n",
       "       'suppseudo', 'profileStory', 'savingTime', 'id', 'who', 'categorylist',\n",
       "       'macrolist'],\n",
       "      dtype='object')"
      ]
     },
     "execution_count": 8,
     "metadata": {},
     "output_type": "execute_result"
    }
   ],
   "source": [
    "dataset.columns"
   ]
  },
  {
   "cell_type": "code",
   "execution_count": 9,
   "metadata": {},
   "outputs": [
    {
     "data": {
      "text/plain": [
       "{3, 4, 6, 7, 8, 9, 10, 11, 12}"
      ]
     },
     "execution_count": 9,
     "metadata": {},
     "output_type": "execute_result"
    }
   ],
   "source": [
    "set(dataset.savingTime.dt.day)"
   ]
  },
  {
   "cell_type": "code",
   "execution_count": 10,
   "metadata": {},
   "outputs": [],
   "source": [
    "dataset_output = pd.DataFrame(columns=dataset.columns)"
   ]
  },
  {
   "cell_type": "code",
   "execution_count": 11,
   "metadata": {
    "collapsed": true,
    "jupyter": {
     "outputs_hidden": true
    }
   },
   "outputs": [
    {
     "name": "stdout",
     "output_type": "stream",
     "text": [
      "For day 3 user 4_2 has 11 unique homepages\n",
      "For day 4 user 4_2 has 11 unique homepages\n",
      "For day 6 user 4_2 has 11 unique homepages\n",
      "For day 8 user 4_2 has 11 unique homepages\n",
      "For day 9 user 4_2 has 11 unique homepages\n",
      "For day 10 user 4_2 has 11 unique homepages\n",
      "For day 11 user 4_2 has 11 unique homepages\n",
      "For day 12 user 4_2 has 11 unique homepages\n",
      "For day 3 user 13_2 has 11 unique homepages\n",
      "For day 4 user 13_2 has 11 unique homepages\n",
      "For day 6 user 13_2 has 11 unique homepages\n",
      "For day 7 user 13_2 has 11 unique homepages\n",
      "For day 8 user 13_2 has 11 unique homepages\n",
      "For day 9 user 13_2 has 11 unique homepages\n",
      "For day 10 user 13_2 has 11 unique homepages\n",
      "For day 11 user 13_2 has 11 unique homepages\n",
      "For day 12 user 13_2 has 11 unique homepages\n",
      "For day 3 user 11_2 has 11 unique homepages\n",
      "For day 4 user 11_2 has 11 unique homepages\n",
      "For day 6 user 11_2 has 11 unique homepages\n",
      "For day 7 user 11_2 has 11 unique homepages\n",
      "For day 8 user 11_2 has 11 unique homepages\n",
      "For day 9 user 11_2 has 11 unique homepages\n",
      "For day 10 user 11_2 has 11 unique homepages\n",
      "For day 11 user 11_2 has 11 unique homepages\n",
      "For day 12 user 11_2 has 11 unique homepages\n",
      "For day 3 user 10_2 has 11 unique homepages\n",
      "For day 4 user 10_2 has 11 unique homepages\n",
      "For day 6 user 10_2 has 11 unique homepages\n",
      "For day 7 user 10_2 has 11 unique homepages\n",
      "For day 8 user 10_2 has 11 unique homepages\n",
      "For day 9 user 10_2 has 11 unique homepages\n",
      "For day 10 user 10_2 has 11 unique homepages\n",
      "For day 11 user 10_2 has 11 unique homepages\n",
      "For day 12 user 10_2 has 11 unique homepages\n",
      "For day 3 user 1_2 has 11 unique homepages\n",
      "For day 4 user 1_2 has 11 unique homepages\n",
      "For day 6 user 1_2 has 11 unique homepages\n",
      "For day 7 user 1_2 has 11 unique homepages\n",
      "For day 8 user 1_2 has 11 unique homepages\n",
      "For day 9 user 1_2 has 11 unique homepages\n",
      "For day 10 user 1_2 has 11 unique homepages\n",
      "For day 11 user 1_2 has 11 unique homepages\n",
      "For day 12 user 1_2 has 11 unique homepages\n",
      "For day 3 user 6_2 has 11 unique homepages\n",
      "For day 4 user 6_2 has 11 unique homepages\n",
      "For day 6 user 6_2 has 11 unique homepages\n",
      "For day 7 user 6_2 has 11 unique homepages\n",
      "For day 8 user 6_2 has 11 unique homepages\n",
      "For day 9 user 6_2 has 11 unique homepages\n",
      "For day 10 user 6_2 has 11 unique homepages\n",
      "For day 11 user 6_2 has 11 unique homepages\n",
      "For day 12 user 6_2 has 11 unique homepages\n",
      "For day 3 user 15_2 has 11 unique homepages\n",
      "For day 4 user 15_2 has 11 unique homepages\n",
      "For day 6 user 15_2 has 11 unique homepages\n",
      "For day 7 user 15_2 has 11 unique homepages\n",
      "For day 8 user 15_2 has 11 unique homepages\n",
      "For day 9 user 15_2 has 11 unique homepages\n",
      "For day 10 user 15_2 has 11 unique homepages\n",
      "For day 11 user 15_2 has 11 unique homepages\n",
      "For day 12 user 15_2 has 11 unique homepages\n",
      "For day 3 user 9_2 has 11 unique homepages\n",
      "For day 4 user 9_2 has 11 unique homepages\n",
      "For day 6 user 9_2 has 11 unique homepages\n",
      "For day 7 user 9_2 has 11 unique homepages\n",
      "For day 8 user 9_2 has 11 unique homepages\n",
      "For day 9 user 9_2 has 11 unique homepages\n",
      "For day 10 user 9_2 has 11 unique homepages\n",
      "For day 11 user 9_2 has 11 unique homepages\n",
      "For day 12 user 9_2 has 11 unique homepages\n",
      "For day 3 user 5_2 has 11 unique homepages\n",
      "For day 4 user 5_2 has 11 unique homepages\n",
      "For day 6 user 5_2 has 11 unique homepages\n",
      "For day 7 user 5_2 has 11 unique homepages\n",
      "For day 8 user 5_2 has 11 unique homepages\n",
      "For day 9 user 5_2 has 11 unique homepages\n",
      "For day 10 user 5_2 has 11 unique homepages\n",
      "For day 11 user 5_2 has 11 unique homepages\n",
      "For day 12 user 5_2 has 11 unique homepages\n",
      "For day 3 user 2_2 has 11 unique homepages\n",
      "For day 4 user 2_2 has 11 unique homepages\n",
      "For day 6 user 2_2 has 11 unique homepages\n",
      "For day 7 user 2_2 has 11 unique homepages\n",
      "For day 8 user 2_2 has 11 unique homepages\n",
      "For day 9 user 2_2 has 11 unique homepages\n",
      "For day 10 user 2_2 has 11 unique homepages\n",
      "For day 11 user 2_2 has 11 unique homepages\n",
      "For day 12 user 2_2 has 11 unique homepages\n",
      "For day 3 user 7_2 has 11 unique homepages\n",
      "For day 4 user 7_2 has 11 unique homepages\n",
      "For day 6 user 7_2 has 11 unique homepages\n",
      "For day 7 user 7_2 has 11 unique homepages\n",
      "For day 8 user 7_2 has 11 unique homepages\n",
      "For day 9 user 7_2 has 11 unique homepages\n",
      "For day 10 user 7_2 has 11 unique homepages\n",
      "For day 11 user 7_2 has 11 unique homepages\n",
      "For day 12 user 7_2 has 11 unique homepages\n",
      "For day 3 user 14_2 has 11 unique homepages\n",
      "For day 4 user 14_2 has 11 unique homepages\n",
      "For day 6 user 14_2 has 11 unique homepages\n",
      "For day 7 user 14_2 has 11 unique homepages\n",
      "For day 8 user 14_2 has 11 unique homepages\n",
      "For day 9 user 14_2 has 11 unique homepages\n",
      "For day 10 user 14_2 has 11 unique homepages\n",
      "For day 11 user 14_2 has 11 unique homepages\n",
      "For day 12 user 14_2 has 11 unique homepages\n",
      "For day 3 user 12_2 has 11 unique homepages\n",
      "For day 4 user 12_2 has 11 unique homepages\n",
      "For day 6 user 12_2 has 11 unique homepages\n",
      "For day 7 user 12_2 has 11 unique homepages\n",
      "For day 8 user 12_2 has 11 unique homepages\n",
      "For day 9 user 12_2 has 11 unique homepages\n",
      "For day 10 user 12_2 has 11 unique homepages\n",
      "For day 11 user 12_2 has 11 unique homepages\n",
      "For day 12 user 12_2 has 11 unique homepages\n",
      "For day 3 user 3_2 has 11 unique homepages\n",
      "For day 4 user 3_2 has 11 unique homepages\n",
      "For day 6 user 3_2 has 11 unique homepages\n",
      "For day 7 user 3_2 has 11 unique homepages\n",
      "For day 8 user 3_2 has 11 unique homepages\n",
      "For day 9 user 3_2 has 11 unique homepages\n",
      "For day 10 user 3_2 has 11 unique homepages\n",
      "For day 11 user 3_2 has 11 unique homepages\n",
      "For day 12 user 3_2 has 11 unique homepages\n",
      "For day 3 user 8_2 has 11 unique homepages\n",
      "For day 4 user 8_2 has 11 unique homepages\n",
      "For day 6 user 8_2 has 11 unique homepages\n",
      "For day 7 user 8_2 has 11 unique homepages\n",
      "For day 8 user 8_2 has 11 unique homepages\n",
      "For day 9 user 8_2 has 11 unique homepages\n",
      "For day 10 user 8_2 has 11 unique homepages\n",
      "For day 11 user 8_2 has 11 unique homepages\n",
      "For day 12 user 8_2 has 11 unique homepages\n",
      "For day 3 user 16_2 has 11 unique homepages\n",
      "For day 4 user 16_2 has 11 unique homepages\n",
      "For day 6 user 16_2 has 11 unique homepages\n",
      "For day 7 user 16_2 has 11 unique homepages\n",
      "For day 8 user 16_2 has 11 unique homepages\n",
      "For day 9 user 16_2 has 11 unique homepages\n",
      "For day 10 user 16_2 has 11 unique homepages\n",
      "For day 11 user 16_2 has 11 unique homepages\n",
      "For day 12 user 16_2 has 11 unique homepages\n"
     ]
    }
   ],
   "source": [
    "for user in set(dataset.who):\n",
    "    dataset_user = dataset[dataset.who == user]\n",
    "    for day in set(dataset_user.savingTime.dt.day):\n",
    "        dataset_day = dataset_user[dataset_user.savingTime.dt.day == day]\n",
    "        dataset_hour = dataset_day[dataset_day.savingTime.dt.hour >= 17]\n",
    "        different_ts = set(dataset_hour.savingTime)\n",
    "        dataset_final = dataset_hour[dataset_hour.savingTime.isin(list(different_ts)[:11])]\n",
    "        print(f\"For day {day} user {user} has {len(set(dataset_final.savingTime))} unique homepages\")\n",
    "        dataset_output = dataset_output.append(dataset_final)"
   ]
  },
  {
   "cell_type": "code",
   "execution_count": 12,
   "metadata": {},
   "outputs": [],
   "source": [
    "dataset_output.loc[dataset_output.who == \"1_1\",\"gender\"] = \"Nessuno\"\n",
    "dataset_output.loc[dataset_output.who == \"2_2\",\"gender\"] = \"Nessuno\"\n",
    "dataset_output.loc[dataset_output.who == \"3_2\",\"gender\"] = \"Nessuno\"\n",
    "dataset_output.loc[dataset_output.who == \"4_2\",\"gender\"] = \"Maschio\"\n",
    "dataset_output.loc[dataset_output.who == \"5_2\",\"gender\"] = \"Maschio\"\n",
    "dataset_output.loc[dataset_output.who == \"6_2\",\"gender\"] = \"Maschio\"\n",
    "dataset_output.loc[dataset_output.who == \"7_2\",\"gender\"] = \"Femmina\"\n",
    "dataset_output.loc[dataset_output.who == \"8_2\",\"gender\"] = \"Femmina\"\n",
    "dataset_output.loc[dataset_output.who == \"9_2\",\"gender\"] = \"Femmina\"\n",
    "dataset_output.loc[dataset_output.who == \"10_2\",\"gender\"] = \"Coppia\"\n",
    "dataset_output.loc[dataset_output.who == \"11_2\",\"gender\"] = \"Coppia Donne\"\n",
    "dataset_output.loc[dataset_output.who == \"12_2\",\"gender\"] = \"Coppia Uomini\"\n",
    "dataset_output.loc[dataset_output.who == \"13_2\",\"gender\"] = \"Uomo Trans\"\n",
    "dataset_output.loc[dataset_output.who == \"14_2\",\"gender\"] = \"Donna Trans\"\n",
    "dataset_output.loc[dataset_output.who == \"15_2\",\"gender\"] = \"Altro\"\n",
    "dataset_output.loc[dataset_output.who == \"16_2\",\"gender\"] = \"NonBinario\""
   ]
  },
  {
   "cell_type": "code",
   "execution_count": 13,
   "metadata": {},
   "outputs": [],
   "source": [
    "dataset_output.loc[dataset_output.who == \"1_2\",\"orientamento\"] = \"Ragazze\"\n",
    "dataset_output.loc[dataset_output.who == \"2_2\",\"orientamento\"] = \"Ragazzi\"\n",
    "dataset_output.loc[dataset_output.who == \"3_2\",\"orientamento\"] = \"Ragazzi e Ragazze\"\n",
    "dataset_output.loc[dataset_output.who == \"4_2\",\"orientamento\"] = \"Ragazze\"\n",
    "dataset_output.loc[dataset_output.who == \"5_2\",\"orientamento\"] = \"Ragazzi\"\n",
    "dataset_output.loc[dataset_output.who == \"6_2\",\"orientamento\"] = \"Ragazzi e Ragazze\"\n",
    "dataset_output.loc[dataset_output.who == \"7_2\",\"orientamento\"] = \"Ragazze\"\n",
    "dataset_output.loc[dataset_output.who == \"8_2\",\"orientamento\"] = \"Ragazzi\"\n",
    "dataset_output.loc[dataset_output.who == \"9_2\",\"orientamento\"] = \"Ragazzi e Ragazze\"\n",
    "dataset_output.loc[dataset_output.who == \"10_2\",\"orientamento\"] = \"Ragazze\"\n",
    "dataset_output.loc[dataset_output.who == \"11_2\",\"orientamento\"] = \"Ragazze\"\n",
    "dataset_output.loc[dataset_output.who == \"12_2\",\"orientamento\"] = \"Ragazze\"\n",
    "dataset_output.loc[dataset_output.who == \"13_2\",\"orientamento\"] = \"Ragazze\"\n",
    "dataset_output.loc[dataset_output.who == \"14_2\",\"orientamento\"] = \"Ragazze\"\n",
    "dataset_output.loc[dataset_output.who == \"15_2\",\"orientamento\"] = \"Ragazze\"\n",
    "dataset_output.loc[dataset_output.who == \"16_2\",\"orientamento\"] = \"Ragazze\""
   ]
  },
  {
   "cell_type": "code",
   "execution_count": 14,
   "metadata": {},
   "outputs": [],
   "source": [
    "dataset_output['categorylist']= dataset_output['categorylist'].str.replace(r\" \\(.*\\)\", \"\")\n",
    "dataset_output.categorylist\n",
    "dataset_output.to_csv(\"search_homes_clean_14032020.csv\", index = False)\n"
   ]
  },
  {
   "cell_type": "code",
   "execution_count": null,
   "metadata": {},
   "outputs": [],
   "source": []
  },
  {
   "cell_type": "code",
   "execution_count": null,
   "metadata": {},
   "outputs": [],
   "source": []
  }
 ],
 "metadata": {
  "kernelspec": {
   "display_name": "Python 3",
   "language": "python",
   "name": "python3"
  },
  "language_info": {
   "codemirror_mode": {
    "name": "ipython",
    "version": 3
   },
   "file_extension": ".py",
   "mimetype": "text/x-python",
   "name": "python",
   "nbconvert_exporter": "python",
   "pygments_lexer": "ipython3",
   "version": "3.7.3"
  }
 },
 "nbformat": 4,
 "nbformat_minor": 4
}
