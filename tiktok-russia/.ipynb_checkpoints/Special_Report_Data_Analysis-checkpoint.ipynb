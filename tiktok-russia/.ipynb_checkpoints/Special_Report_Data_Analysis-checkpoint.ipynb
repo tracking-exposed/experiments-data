{
 "cells": [
  {
   "cell_type": "markdown",
   "metadata": {},
   "source": [
    "# Tracking Exposed Special Report: Data Set Visualization\n",
    "\n",
    "\n",
    "## Content Restrictions on TikTok in Russia following the Ukrainian War\n",
    "## April 11, 2022"
   ]
  },
  {
   "cell_type": "markdown",
   "metadata": {},
   "source": [
    "## Import the Data"
   ]
  },
  {
   "cell_type": "code",
   "execution_count": 1,
   "metadata": {},
   "outputs": [],
   "source": [
    "import pandas as pd\n",
    "from datetime import datetime, timedelta"
   ]
  },
  {
   "cell_type": "code",
   "execution_count": 2,
   "metadata": {},
   "outputs": [],
   "source": [
    "data_path = 'data/'"
   ]
  },
  {
   "cell_type": "markdown",
   "metadata": {},
   "source": [
    "# LOAD THE DATASETS"
   ]
  },
  {
   "cell_type": "markdown",
   "metadata": {},
   "source": [
    "The different datasets are added in a dict:"
   ]
  },
  {
   "cell_type": "code",
   "execution_count": 4,
   "metadata": {},
   "outputs": [],
   "source": [
    "dfs = {}"
   ]
  },
  {
   "cell_type": "markdown",
   "metadata": {},
   "source": [
    "## SET 1: Pro-Kremlin Hashtags"
   ]
  },
  {
   "cell_type": "code",
   "execution_count": 5,
   "metadata": {},
   "outputs": [
    {
     "data": {
      "text/plain": [
       "(16380, 14)"
      ]
     },
     "execution_count": 5,
     "metadata": {},
     "output_type": "execute_result"
    }
   ],
   "source": [
    "dataframe_path = data_path + 'tk_df_pro_kremlin.pkl'\n",
    "tk_df_pro_kremlin = pd.read_pickle(dataframe_path)\n",
    "tk_df_pro_kremlin.shape"
   ]
  },
  {
   "cell_type": "markdown",
   "metadata": {},
   "source": [
    "**Remove a hashtag that was judged too ambiguous on second assessement:**"
   ]
  },
  {
   "cell_type": "code",
   "execution_count": 6,
   "metadata": {},
   "outputs": [
    {
     "data": {
      "text/plain": [
       "(13091, 14)"
      ]
     },
     "execution_count": 6,
     "metadata": {},
     "output_type": "execute_result"
    }
   ],
   "source": [
    "to_remove = ['zамир']\n",
    "tk_df_pro_kremlin = tk_df_pro_kremlin[~tk_df_pro_kremlin.hashtag_query.isin(to_remove)]\n",
    "tk_df_pro_kremlin.shape"
   ]
  },
  {
   "cell_type": "markdown",
   "metadata": {},
   "source": [
    "**Label pro war**"
   ]
  },
  {
   "cell_type": "code",
   "execution_count": 570,
   "metadata": {},
   "outputs": [],
   "source": [
    "tk_df_pro_kremlin['pro_anti_war'] = 'pro_war'"
   ]
  },
  {
   "cell_type": "markdown",
   "metadata": {},
   "source": [
    "**Remove duplicates**"
   ]
  },
  {
   "cell_type": "code",
   "execution_count": 571,
   "metadata": {},
   "outputs": [
    {
     "data": {
      "text/plain": [
       "(5628, 15)"
      ]
     },
     "execution_count": 571,
     "metadata": {},
     "output_type": "execute_result"
    }
   ],
   "source": [
    "tk_df_pro_kremlin.drop_duplicates('uri', inplace=True)\n",
    "tk_df_pro_kremlin.shape"
   ]
  },
  {
   "cell_type": "code",
   "execution_count": 572,
   "metadata": {},
   "outputs": [
    {
     "data": {
      "text/plain": [
       "['zанаших',\n",
       " 'путинкраш',\n",
       " 'путиннашпрезидент',\n",
       " 'путинтоп',\n",
       " 'zапутина',\n",
       " 'zароссию']"
      ]
     },
     "execution_count": 572,
     "metadata": {},
     "output_type": "execute_result"
    }
   ],
   "source": [
    "pro_kremlin_hashtags = list(tk_df_pro_kremlin.hashtag_query.value_counts().index)\n",
    "pro_kremlin_hashtags"
   ]
  },
  {
   "cell_type": "code",
   "execution_count": 573,
   "metadata": {},
   "outputs": [
    {
     "data": {
      "text/plain": [
       "2732"
      ]
     },
     "execution_count": 573,
     "metadata": {},
     "output_type": "execute_result"
    }
   ],
   "source": [
    "len(tk_df_pro_kremlin.author.unique())"
   ]
  },
  {
   "cell_type": "code",
   "execution_count": 574,
   "metadata": {},
   "outputs": [
    {
     "name": "stdout",
     "output_type": "stream",
     "text": [
      "5628\n",
      "1223  -  zанаших\n",
      "1020  -  путинкраш\n",
      "1012  -  путиннашпрезидент\n",
      "890  -  путинтоп\n",
      "767  -  zапутина\n",
      "716  -  zароссию\n"
     ]
    }
   ],
   "source": [
    "tags = tk_df_pro_kremlin.hashtag_query.value_counts()\n",
    "\n",
    "print(tags.sum())\n",
    "\n",
    "for tag, count in tags.items():\n",
    "    print(count, ' - ', tag)"
   ]
  },
  {
   "cell_type": "code",
   "execution_count": 575,
   "metadata": {},
   "outputs": [],
   "source": [
    "dfs['pro_kremlin'] = tk_df_pro_kremlin"
   ]
  },
  {
   "cell_type": "markdown",
   "metadata": {},
   "source": [
    "## SET 2: Hand Curated Anti-war Hashtags"
   ]
  },
  {
   "cell_type": "code",
   "execution_count": 576,
   "metadata": {},
   "outputs": [],
   "source": [
    "anti_war_hashtags_input = [\n",
    "    'противійни', # Counterinsurgency\n",
    "    'япротиввойны', # I am against the war\n",
    "    'нетвойне', # No War\n",
    " 'янемолчу', # I am speechless\n",
    "    'нетвойнесукраиной', # no war in Ukraine\n",
    "    'славаукраїні', # glory to ukraine\n",
    "    'путинхуйло', # putin is a prick\n",
    "]"
   ]
  },
  {
   "cell_type": "code",
   "execution_count": 577,
   "metadata": {},
   "outputs": [
    {
     "data": {
      "text/plain": [
       "(16117, 14)"
      ]
     },
     "execution_count": 577,
     "metadata": {},
     "output_type": "execute_result"
    }
   ],
   "source": [
    "dataframe_path = data_path + 'tk_df_anti_war.pkl'\n",
    "tk_df_anti_war = pd.read_pickle(dataframe_path)\n",
    "tk_df_anti_war.shape"
   ]
  },
  {
   "cell_type": "markdown",
   "metadata": {},
   "source": [
    "**Label pro war**"
   ]
  },
  {
   "cell_type": "code",
   "execution_count": 578,
   "metadata": {},
   "outputs": [],
   "source": [
    "tk_df_anti_war['pro_anti_war'] = 'anti_war'"
   ]
  },
  {
   "cell_type": "markdown",
   "metadata": {},
   "source": [
    "**Remove duplicates**"
   ]
  },
  {
   "cell_type": "code",
   "execution_count": 579,
   "metadata": {},
   "outputs": [
    {
     "data": {
      "text/plain": [
       "(6244, 15)"
      ]
     },
     "execution_count": 579,
     "metadata": {},
     "output_type": "execute_result"
    }
   ],
   "source": [
    "tk_df_anti_war.drop_duplicates('uri', inplace=True)\n",
    "tk_df_anti_war.shape"
   ]
  },
  {
   "cell_type": "code",
   "execution_count": 580,
   "metadata": {},
   "outputs": [
    {
     "data": {
      "text/plain": [
       "4029"
      ]
     },
     "execution_count": 580,
     "metadata": {},
     "output_type": "execute_result"
    }
   ],
   "source": [
    "len(tk_df_anti_war.author.unique())"
   ]
  },
  {
   "cell_type": "code",
   "execution_count": 581,
   "metadata": {},
   "outputs": [],
   "source": [
    "dfs['anti_war'] = tk_df_anti_war"
   ]
  },
  {
   "cell_type": "code",
   "execution_count": 582,
   "metadata": {},
   "outputs": [],
   "source": [
    "anti_war_hashtags = list(tk_df_anti_war.hashtag_query.value_counts().index)"
   ]
  },
  {
   "cell_type": "markdown",
   "metadata": {},
   "source": [
    "## Combine the datasets"
   ]
  },
  {
   "cell_type": "code",
   "execution_count": 583,
   "metadata": {},
   "outputs": [],
   "source": [
    "# concatenate the dataframes from all the datasets\n",
    "tk_df = pd.concat([df for df in dfs.values()])"
   ]
  },
  {
   "cell_type": "code",
   "execution_count": 584,
   "metadata": {},
   "outputs": [
    {
     "data": {
      "text/plain": [
       "(11872, 16)"
      ]
     },
     "execution_count": 584,
     "metadata": {},
     "output_type": "execute_result"
    }
   ],
   "source": [
    "# The default index corresponds to the rank (order) in the API response to the hashtag query\n",
    "tk_df['order'] = tk_df.index\n",
    "tk_df.reset_index(drop=True)\n",
    "tk_df.shape"
   ]
  },
  {
   "cell_type": "code",
   "execution_count": 585,
   "metadata": {},
   "outputs": [],
   "source": [
    "dfs['all'] = tk_df"
   ]
  },
  {
   "cell_type": "code",
   "execution_count": 586,
   "metadata": {},
   "outputs": [
    {
     "data": {
      "text/plain": [
       "anti_war    6244\n",
       "pro_war     5628\n",
       "Name: pro_anti_war, dtype: int64"
      ]
     },
     "execution_count": 586,
     "metadata": {},
     "output_type": "execute_result"
    }
   ],
   "source": [
    "tk_df.pro_anti_war.value_counts()"
   ]
  },
  {
   "cell_type": "markdown",
   "metadata": {},
   "source": [
    "**Note**\n",
    "There are 5 uris that are present both in the pro and anti dataset. That's fair to neglect, it's in the error margin expected when assessing content at the hashtag level. (a few ambiguous or misclassified posts)"
   ]
  },
  {
   "cell_type": "code",
   "execution_count": 592,
   "metadata": {},
   "outputs": [
    {
     "data": {
      "text/plain": [
       "['7031386986086665474',\n",
       " '7031557388540906753',\n",
       " '7073619280322989317',\n",
       " '7071195429479746818',\n",
       " '7071930863050575106']"
      ]
     },
     "execution_count": 592,
     "metadata": {},
     "output_type": "execute_result"
    }
   ],
   "source": [
    "list(tk_df.uri[tk_df.uri.duplicated()])"
   ]
  },
  {
   "cell_type": "markdown",
   "metadata": {},
   "source": [
    "## Hashtag distribution in the loaded dataset:"
   ]
  },
  {
   "cell_type": "code",
   "execution_count": 594,
   "metadata": {},
   "outputs": [
    {
     "data": {
      "text/plain": [
       "zанаших              1223\n",
       "путинхуйло           1063\n",
       "нетвойне             1049\n",
       "нетвойнесукраиной    1033\n",
       "противійни           1025\n",
       "путинкраш            1020\n",
       "путиннашпрезидент    1012\n",
       "ЯпротивВойны          997\n",
       "славаукраїні          991\n",
       "путинтоп              890\n",
       "zапутина              767\n",
       "zароссию              716\n",
       "япротиввойны           86\n",
       "Name: hashtag_query, dtype: int64"
      ]
     },
     "execution_count": 594,
     "metadata": {},
     "output_type": "execute_result"
    }
   ],
   "source": [
    "hashtag_counts = tk_df.hashtag_query.value_counts()\n",
    "seed_hashtags = list(hashtag_counts.index)\n",
    "hashtag_counts"
   ]
  },
  {
   "cell_type": "markdown",
   "metadata": {},
   "source": [
    "## Label if channels are available in Russia"
   ]
  },
  {
   "cell_type": "code",
   "execution_count": 595,
   "metadata": {},
   "outputs": [],
   "source": [
    "is_russian_channel = pd.Series(pd.read_pickle(data_path + 'channel_availability.pkl'))"
   ]
  },
  {
   "cell_type": "code",
   "execution_count": 596,
   "metadata": {},
   "outputs": [],
   "source": [
    "# the source code inverts available and unavailable (can't be fixed in the middle of the data collection)\n",
    "is_russian_channel = ~is_russian_channel"
   ]
  },
  {
   "cell_type": "code",
   "execution_count": 597,
   "metadata": {},
   "outputs": [
    {
     "data": {
      "text/plain": [
       "7782"
      ]
     },
     "execution_count": 597,
     "metadata": {},
     "output_type": "execute_result"
    }
   ],
   "source": [
    "len(is_russian_channel)"
   ]
  },
  {
   "cell_type": "code",
   "execution_count": 598,
   "metadata": {},
   "outputs": [
    {
     "data": {
      "text/plain": [
       "4232"
      ]
     },
     "execution_count": 598,
     "metadata": {},
     "output_type": "execute_result"
    }
   ],
   "source": [
    "russian_channels = list(is_russian_channel[is_russian_channel==True].index)\n",
    "len(russian_channels)"
   ]
  },
  {
   "cell_type": "code",
   "execution_count": 599,
   "metadata": {},
   "outputs": [],
   "source": [
    "def add_is_russian(df, channels=is_russian_channel):\n",
    "    df.reset_index(inplace=True)\n",
    "    df['is_russian'] = -1\n",
    "    for i, row in df[df.author.isin(list(channels.index))].iterrows():\n",
    "        df.at[i, 'is_russian'] = int(channels[row.author])\n",
    "    return df\n"
   ]
  },
  {
   "cell_type": "code",
   "execution_count": 600,
   "metadata": {},
   "outputs": [
    {
     "name": "stdout",
     "output_type": "stream",
     "text": [
      "adding russian label to pro_kremlin\n",
      " 1    4725\n",
      " 0     902\n",
      "-1       1\n",
      "Name: is_russian, dtype: int64\n",
      "adding russian label to anti_war\n",
      "0    4550\n",
      "1    1694\n",
      "Name: is_russian, dtype: int64\n",
      "adding russian label to all\n",
      " 1    6419\n",
      " 0    5452\n",
      "-1       1\n",
      "Name: is_russian, dtype: int64\n"
     ]
    }
   ],
   "source": [
    "for key, df in dfs.items():\n",
    "    print('adding russian label to', key)\n",
    "    df = add_is_russian(df)\n",
    "    print(df.is_russian.value_counts())"
   ]
  },
  {
   "cell_type": "markdown",
   "metadata": {},
   "source": [
    "## Dataset Description"
   ]
  },
  {
   "cell_type": "code",
   "execution_count": 601,
   "metadata": {},
   "outputs": [
    {
     "data": {
      "text/html": [
       "<div>\n",
       "<style scoped>\n",
       "    .dataframe tbody tr th:only-of-type {\n",
       "        vertical-align: middle;\n",
       "    }\n",
       "\n",
       "    .dataframe tbody tr th {\n",
       "        vertical-align: top;\n",
       "    }\n",
       "\n",
       "    .dataframe thead th {\n",
       "        text-align: right;\n",
       "    }\n",
       "</style>\n",
       "<table border=\"1\" class=\"dataframe\">\n",
       "  <thead>\n",
       "    <tr style=\"text-align: right;\">\n",
       "      <th>is_russian</th>\n",
       "      <th>0</th>\n",
       "      <th>1</th>\n",
       "      <th>sum</th>\n",
       "    </tr>\n",
       "    <tr>\n",
       "      <th>hashtag_query</th>\n",
       "      <th></th>\n",
       "      <th></th>\n",
       "      <th></th>\n",
       "    </tr>\n",
       "  </thead>\n",
       "  <tbody>\n",
       "    <tr>\n",
       "      <th>путинхуйло</th>\n",
       "      <td>1035</td>\n",
       "      <td>28</td>\n",
       "      <td>1063</td>\n",
       "    </tr>\n",
       "    <tr>\n",
       "      <th>нетвойне</th>\n",
       "      <td>453</td>\n",
       "      <td>596</td>\n",
       "      <td>1049</td>\n",
       "    </tr>\n",
       "    <tr>\n",
       "      <th>нетвойнесукраиной</th>\n",
       "      <td>631</td>\n",
       "      <td>402</td>\n",
       "      <td>1033</td>\n",
       "    </tr>\n",
       "    <tr>\n",
       "      <th>противійни</th>\n",
       "      <td>1002</td>\n",
       "      <td>23</td>\n",
       "      <td>1025</td>\n",
       "    </tr>\n",
       "    <tr>\n",
       "      <th>ЯпротивВойны</th>\n",
       "      <td>409</td>\n",
       "      <td>588</td>\n",
       "      <td>997</td>\n",
       "    </tr>\n",
       "    <tr>\n",
       "      <th>славаукраїні</th>\n",
       "      <td>977</td>\n",
       "      <td>14</td>\n",
       "      <td>991</td>\n",
       "    </tr>\n",
       "    <tr>\n",
       "      <th>япротиввойны</th>\n",
       "      <td>43</td>\n",
       "      <td>43</td>\n",
       "      <td>86</td>\n",
       "    </tr>\n",
       "  </tbody>\n",
       "</table>\n",
       "</div>"
      ],
      "text/plain": [
       "is_russian            0    1   sum\n",
       "hashtag_query                     \n",
       "путинхуйло         1035   28  1063\n",
       "нетвойне            453  596  1049\n",
       "нетвойнесукраиной   631  402  1033\n",
       "противійни         1002   23  1025\n",
       "ЯпротивВойны        409  588   997\n",
       "славаукраїні        977   14   991\n",
       "япротиввойны         43   43    86"
      ]
     },
     "execution_count": 601,
     "metadata": {},
     "output_type": "execute_result"
    }
   ],
   "source": [
    "anti_war_descr = tk_df_anti_war.groupby('is_russian').hashtag_query.value_counts().unstack().T\n",
    "anti_war_descr['sum'] = anti_war_descr.sum(axis = 1)\n",
    "anti_war_descr.sort_values('sum', ascending=False)"
   ]
  },
  {
   "cell_type": "code",
   "execution_count": 602,
   "metadata": {},
   "outputs": [
    {
     "data": {
      "text/plain": [
       "1083"
      ]
     },
     "execution_count": 602,
     "metadata": {},
     "output_type": "execute_result"
    }
   ],
   "source": [
    "len(df[df.hashtag_query.isin(['ЯпротивВойны','япротиввойны'])].uri.unique())"
   ]
  },
  {
   "cell_type": "code",
   "execution_count": 603,
   "metadata": {},
   "outputs": [
    {
     "data": {
      "text/html": [
       "<div>\n",
       "<style scoped>\n",
       "    .dataframe tbody tr th:only-of-type {\n",
       "        vertical-align: middle;\n",
       "    }\n",
       "\n",
       "    .dataframe tbody tr th {\n",
       "        vertical-align: top;\n",
       "    }\n",
       "\n",
       "    .dataframe thead th {\n",
       "        text-align: right;\n",
       "    }\n",
       "</style>\n",
       "<table border=\"1\" class=\"dataframe\">\n",
       "  <thead>\n",
       "    <tr style=\"text-align: right;\">\n",
       "      <th>is_russian</th>\n",
       "      <th>-1</th>\n",
       "      <th>0</th>\n",
       "      <th>1</th>\n",
       "      <th>sum</th>\n",
       "    </tr>\n",
       "    <tr>\n",
       "      <th>hashtag_query</th>\n",
       "      <th></th>\n",
       "      <th></th>\n",
       "      <th></th>\n",
       "      <th></th>\n",
       "    </tr>\n",
       "  </thead>\n",
       "  <tbody>\n",
       "    <tr>\n",
       "      <th>zанаших</th>\n",
       "      <td>NaN</td>\n",
       "      <td>264.0</td>\n",
       "      <td>959.0</td>\n",
       "      <td>1223.0</td>\n",
       "    </tr>\n",
       "    <tr>\n",
       "      <th>путинкраш</th>\n",
       "      <td>NaN</td>\n",
       "      <td>84.0</td>\n",
       "      <td>936.0</td>\n",
       "      <td>1020.0</td>\n",
       "    </tr>\n",
       "    <tr>\n",
       "      <th>путиннашпрезидент</th>\n",
       "      <td>NaN</td>\n",
       "      <td>56.0</td>\n",
       "      <td>956.0</td>\n",
       "      <td>1012.0</td>\n",
       "    </tr>\n",
       "    <tr>\n",
       "      <th>путинтоп</th>\n",
       "      <td>1.0</td>\n",
       "      <td>42.0</td>\n",
       "      <td>847.0</td>\n",
       "      <td>890.0</td>\n",
       "    </tr>\n",
       "    <tr>\n",
       "      <th>zапутина</th>\n",
       "      <td>NaN</td>\n",
       "      <td>349.0</td>\n",
       "      <td>418.0</td>\n",
       "      <td>767.0</td>\n",
       "    </tr>\n",
       "    <tr>\n",
       "      <th>zароссию</th>\n",
       "      <td>NaN</td>\n",
       "      <td>107.0</td>\n",
       "      <td>609.0</td>\n",
       "      <td>716.0</td>\n",
       "    </tr>\n",
       "  </tbody>\n",
       "</table>\n",
       "</div>"
      ],
      "text/plain": [
       "is_russian          -1      0      1     sum\n",
       "hashtag_query                               \n",
       "zанаших            NaN  264.0  959.0  1223.0\n",
       "путинкраш          NaN   84.0  936.0  1020.0\n",
       "путиннашпрезидент  NaN   56.0  956.0  1012.0\n",
       "путинтоп           1.0   42.0  847.0   890.0\n",
       "zапутина           NaN  349.0  418.0   767.0\n",
       "zароссию           NaN  107.0  609.0   716.0"
      ]
     },
     "execution_count": 603,
     "metadata": {},
     "output_type": "execute_result"
    }
   ],
   "source": [
    "pro_war_descr = tk_df_pro_kremlin.groupby('is_russian').hashtag_query.value_counts().unstack().T\n",
    "pro_war_descr['sum'] = pro_war_descr.sum(axis = 1)\n",
    "pro_war_descr.sort_values('sum', ascending=False)"
   ]
  },
  {
   "cell_type": "markdown",
   "metadata": {},
   "source": [
    "**Author counts**"
   ]
  },
  {
   "cell_type": "code",
   "execution_count": 604,
   "metadata": {},
   "outputs": [
    {
     "name": "stdout",
     "output_type": "stream",
     "text": [
      "unique videos 6244\n",
      "unique russian videos 1694\n",
      "unique russian authors 1135\n",
      "ЯпротивВойны  -  390\n",
      "нетвойне  -  529\n",
      "нетвойнесукраиной  -  193\n",
      "противійни  -  2\n",
      "славаукраїні  -  9\n",
      "путинхуйло  -  18\n",
      "япротиввойны  -  9\n"
     ]
    }
   ],
   "source": [
    "df = tk_df_anti_war\n",
    "\n",
    "print('unique videos', len(df.uri.unique()))\n",
    "\n",
    "df = df[df.is_russian == 1]\n",
    "\n",
    "print('unique russian videos', len(df.uri.unique()))\n",
    "print('unique russian authors', len(df.author.unique()))\n",
    "\n",
    "\n",
    "for tag in list(df.hashtag_query.unique()):\n",
    "    print(tag, ' - ', len(df[df.hashtag_query==tag].author.unique()))    \n"
   ]
  },
  {
   "cell_type": "markdown",
   "metadata": {},
   "source": [
    "\n",
    "## Plot content age distribution"
   ]
  },
  {
   "cell_type": "code",
   "execution_count": 612,
   "metadata": {},
   "outputs": [],
   "source": [
    "now = datetime.now() #- timedelta(hours = 8)"
   ]
  },
  {
   "cell_type": "code",
   "execution_count": 613,
   "metadata": {},
   "outputs": [
    {
     "data": {
      "text/plain": [
       "datetime.datetime(2022, 4, 6, 0, 13, 8, 425257)"
      ]
     },
     "execution_count": 613,
     "metadata": {},
     "output_type": "execute_result"
    }
   ],
   "source": [
    "now"
   ]
  },
  {
   "cell_type": "markdown",
   "metadata": {},
   "source": [
    "We add a `days_ago` column to `tk_df` correponding to the number of days ago from now the content was published"
   ]
  },
  {
   "cell_type": "code",
   "execution_count": 614,
   "metadata": {},
   "outputs": [],
   "source": [
    "for df in dfs.values():\n",
    "    df['days_ago'] = df.createTime.apply(lambda x: (now - datetime.fromtimestamp(x)).days)"
   ]
  },
  {
   "cell_type": "markdown",
   "metadata": {},
   "source": [
    "We restrict the plot to the content published in the last 2 months:"
   ]
  },
  {
   "cell_type": "code",
   "execution_count": 615,
   "metadata": {},
   "outputs": [],
   "source": [
    "def counts_distribution(df, age_limit=45, \n",
    "                        categories ='is_russian', \n",
    "                        ylim=None, \n",
    "                        **kwargs):\n",
    "    #return tk_df.days_ago[tk_df.days_ago<age_limit].plot.hist(bins=age_limit)\n",
    "    plot_df = df[df.days_ago<age_limit]\n",
    "    plot_df = plot_df.groupby(['days_ago', categories]).size().unstack()\n",
    "    plot_df = plot_df[::-1]\n",
    "    ax = plot_df.plot(kind='bar', \n",
    "                      stacked=True,\n",
    "                      xticks=[],\n",
    "                      figsize = (15,8),\n",
    "                      fontsize = 15,\n",
    "                      ylim=ylim,\n",
    "                      #legend=False,\n",
    "                      #color = [(0.5,0.4,0.5), (0.75, 0.75, 0.25)],\n",
    "                      **kwargs)\n",
    "    ax.spines['top'].set_visible(False)\n",
    "    ax.spines['right'].set_visible(False)\n",
    "    #ax.spines['bottom'].set_visible(False)\n",
    "    #ax.spines['left'].set_visible(False)\n",
    "    x_axis = ax.axes.get_xaxis()\n",
    "    x_axis.set_label_text('')\n",
    "    return ax\n",
    "    "
   ]
  },
  {
   "cell_type": "code",
   "execution_count": 616,
   "metadata": {},
   "outputs": [
    {
     "data": {
      "text/plain": [
       "(5308, 19)"
      ]
     },
     "execution_count": 616,
     "metadata": {},
     "output_type": "execute_result"
    }
   ],
   "source": [
    "tk_df[(tk_df.is_russian==1) & (tk_df.days_ago<age_limit)].shape"
   ]
  },
  {
   "cell_type": "code",
   "execution_count": 625,
   "metadata": {},
   "outputs": [
    {
     "data": {
      "text/plain": [
       "(3741, 18)"
      ]
     },
     "execution_count": 625,
     "metadata": {},
     "output_type": "execute_result"
    }
   ],
   "source": [
    "tk_df_pro_kremlin[(tk_df_pro_kremlin.is_russian==1) & (tk_df_pro_kremlin.days_ago<age_limit)].shape"
   ]
  },
  {
   "cell_type": "code",
   "execution_count": 626,
   "metadata": {
    "scrolled": false
   },
   "outputs": [
    {
     "data": {
      "image/png": "[encoded data removed]",
      "text/plain": [
       "<Figure size 1080x576 with 1 Axes>"
      ]
     },
     "metadata": {
      "needs_background": "light"
     },
     "output_type": "display_data"
    }
   ],
   "source": [
    "plot = counts_distribution(tk_df[(tk_df.is_russian==1)], categories='pro_anti_war', \n",
    "                           title='Content posted from Russian-based accounts')"
   ]
  },
  {
   "cell_type": "code",
   "execution_count": 649,
   "metadata": {},
   "outputs": [
    {
     "data": {
      "text/plain": [
       "2022-03-06    443\n",
       "2022-03-07     19\n",
       "2022-03-08     42\n",
       "2022-03-09     19\n",
       "2022-03-10     35\n",
       "2022-03-11     28\n",
       "2022-03-12     30\n",
       "2022-03-13     27\n",
       "2022-03-14     42\n",
       "2022-03-15     67\n",
       "2022-03-16     78\n",
       "2022-03-17    102\n",
       "2022-03-18    157\n",
       "2022-03-19    168\n",
       "2022-03-20    194\n",
       "2022-03-21    183\n",
       "2022-03-22    181\n",
       "2022-03-23    148\n",
       "2022-03-24    174\n",
       "2022-03-25     28\n",
       "2022-03-26     20\n",
       "2022-03-27     14\n",
       "2022-03-28     17\n",
       "2022-03-29     23\n",
       "2022-03-30     15\n",
       "2022-03-31     19\n",
       "2022-04-01      9\n",
       "2022-04-02      6\n",
       "2022-04-03     10\n",
       "2022-04-04      2\n",
       "Name: createTime, dtype: int64"
      ]
     },
     "execution_count": 649,
     "metadata": {},
     "output_type": "execute_result"
    }
   ],
   "source": [
    "from datetime import date\n",
    "tk_df[(tk_df.is_russian==1)].createTime.apply(date.fromtimestamp).value_counts().sort_index().tail(30)"
   ]
  },
  {
   "cell_type": "code",
   "execution_count": 627,
   "metadata": {},
   "outputs": [],
   "source": [
    "fig = plot.get_figure()\n",
    "fig.savefig('anti_pro_war_tiktok.svg')"
   ]
  },
  {
   "cell_type": "code",
   "execution_count": 646,
   "metadata": {
    "scrolled": false
   },
   "outputs": [
    {
     "data": {
      "text/plain": [
       "<matplotlib.axes._subplots.AxesSubplot at 0x7fc460c47250>"
      ]
     },
     "execution_count": 646,
     "metadata": {},
     "output_type": "execute_result"
    },
    {
     "data": {
      "image/png": "[encoded data removed]",
      "text/plain": [
       "<Figure size 1080x576 with 1 Axes>"
      ]
     },
     "metadata": {
      "needs_background": "light"
     },
     "output_type": "display_data"
    }
   ],
   "source": [
    "counts_distribution(tk_df[tk_df.is_russian==True], categories='pro_anti_war',\n",
    "                    title='Content posted from accounts inaccessible from Russia')"
   ]
  },
  {
   "cell_type": "code",
   "execution_count": 624,
   "metadata": {
    "scrolled": false
   },
   "outputs": [
    {
     "data": {
      "text/plain": [
       "<matplotlib.axes._subplots.AxesSubplot at 0x7fc3d7c25e50>"
      ]
     },
     "execution_count": 624,
     "metadata": {},
     "output_type": "execute_result"
    },
    {
     "data": {
      "image/png": "[encoded data removed]",
      "text/plain": [
       "<Figure size 1080x576 with 1 Axes>"
      ]
     },
     "metadata": {
      "needs_background": "light"
     },
     "output_type": "display_data"
    }
   ],
   "source": [
    "counts_distribution(tk_df, categories='pro_anti_war',\n",
    "                    title='Content posted from accounts inaccessible from Russia')"
   ]
  },
  {
   "cell_type": "code",
   "execution_count": 644,
   "metadata": {
    "scrolled": false
   },
   "outputs": [
    {
     "data": {
      "text/plain": [
       "<matplotlib.axes._subplots.AxesSubplot at 0x7fc45526a890>"
      ]
     },
     "execution_count": 644,
     "metadata": {},
     "output_type": "execute_result"
    },
    {
     "data": {
      "image/png": "[encoded data removed]",
      "text/plain": [
       "<Figure size 1080x576 with 1 Axes>"
      ]
     },
     "metadata": {
      "needs_background": "light"
     },
     "output_type": "display_data"
    }
   ],
   "source": [
    "counts_distribution(tk_df[tk_df.is_russian==False], \n",
    "                    color=[(0.4,0.5,0.6), (0.2,0.5,0.1)],\n",
    "                    categories='pro_anti_war',\n",
    "                    title='Content posted from accounts inaccessible from Russia')"
   ]
  },
  {
   "cell_type": "code",
   "execution_count": 246,
   "metadata": {
    "scrolled": false
   },
   "outputs": [
    {
     "data": {
      "text/plain": [
       "<matplotlib.axes._subplots.AxesSubplot at 0x7fc3d2ce3e10>"
      ]
     },
     "execution_count": 246,
     "metadata": {},
     "output_type": "execute_result"
    },
    {
     "data": {
      "image/png": "[encoded data removed]",
      "text/plain": [
       "<Figure size 1080x576 with 1 Axes>"
      ]
     },
     "metadata": {
      "needs_background": "light"
     },
     "output_type": "display_data"
    }
   ],
   "source": [
    "counts_distribution(tk_df[(tk_df.is_russian==0)], categories='pro_anti_war')"
   ]
  },
  {
   "cell_type": "code",
   "execution_count": 94,
   "metadata": {
    "scrolled": false
   },
   "outputs": [
    {
     "data": {
      "text/plain": [
       "<matplotlib.axes._subplots.AxesSubplot at 0x7fc3c58d6090>"
      ]
     },
     "execution_count": 94,
     "metadata": {},
     "output_type": "execute_result"
    },
    {
     "data": {
      "image/png": "[encoded data removed]",
      "text/plain": [
       "<Figure size 1080x576 with 1 Axes>"
      ]
     },
     "metadata": {
      "needs_background": "light"
     },
     "output_type": "display_data"
    }
   ],
   "source": [
    "counts_distribution(tk_df, ylim=(0,1000))"
   ]
  },
  {
   "cell_type": "code",
   "execution_count": 95,
   "metadata": {},
   "outputs": [
    {
     "data": {
      "text/plain": [
       "<matplotlib.axes._subplots.AxesSubplot at 0x7fc427d53050>"
      ]
     },
     "execution_count": 95,
     "metadata": {},
     "output_type": "execute_result"
    },
    {
     "data": {
      "image/png": "[encoded data removed]",
      "text/plain": [
       "<Figure size 1080x576 with 1 Axes>"
      ]
     },
     "metadata": {
      "needs_background": "light"
     },
     "output_type": "display_data"
    }
   ],
   "source": [
    "counts_distribution(tk_df_pro_kremlin)"
   ]
  },
  {
   "cell_type": "code",
   "execution_count": 97,
   "metadata": {
    "scrolled": false
   },
   "outputs": [
    {
     "data": {
      "text/plain": [
       "<matplotlib.axes._subplots.AxesSubplot at 0x7fc3e26d4150>"
      ]
     },
     "execution_count": 97,
     "metadata": {},
     "output_type": "execute_result"
    },
    {
     "data": {
      "image/png": "[encoded data removed]",
      "text/plain": [
       "<Figure size 1080x576 with 1 Axes>"
      ]
     },
     "metadata": {
      "needs_background": "light"
     },
     "output_type": "display_data"
    }
   ],
   "source": [
    "counts_distribution(tk_df_anti_war)\n"
   ]
  },
  {
   "cell_type": "markdown",
   "metadata": {},
   "source": [
    "**Analysis:** \n",
    "\n",
    "We see an increase on content posted on the hashtags covered in the analysis at the war unfolds. The sharp decrease corresponds to the upload ban on March 6th. \n",
    "\n",
    "Though, we notice that some accounts have continued to post. \n",
    "\n",
    "Let's zoom in on these posts"
   ]
  },
  {
   "cell_type": "markdown",
   "metadata": {},
   "source": [
    "## Export Channel DataFrame"
   ]
  },
  {
   "cell_type": "code",
   "execution_count": 406,
   "metadata": {},
   "outputs": [],
   "source": [
    "export_df = tk_df"
   ]
  },
  {
   "cell_type": "code",
   "execution_count": 407,
   "metadata": {},
   "outputs": [],
   "source": [
    "def hashtag_intersection_length(x, intersect_list=pro_kremlin_hashtags):\n",
    "    return len(set(x).intersection(intersect_list))"
   ]
  },
  {
   "cell_type": "code",
   "execution_count": 408,
   "metadata": {},
   "outputs": [],
   "source": [
    "tk_df['pro_kremlin_hashtag_count'] = export_df.hashtags.apply(lambda x: hashtag_intersection_length(x))"
   ]
  },
  {
   "cell_type": "code",
   "execution_count": 409,
   "metadata": {},
   "outputs": [],
   "source": [
    "tk_df['anti_war_hashtag_count'] = export_df.hashtags.apply(lambda x: hashtag_intersection_length(x, intersect_list=anti_war_hashtags))"
   ]
  },
  {
   "cell_type": "code",
   "execution_count": 410,
   "metadata": {},
   "outputs": [],
   "source": [
    "tk_df['video_url'] = 'https://www.tiktok.com/@' + tk_df.author + '/video/' + tk_df.uri"
   ]
  },
  {
   "cell_type": "code",
   "execution_count": 411,
   "metadata": {},
   "outputs": [
    {
     "data": {
      "text/plain": [
       "['https://www.tiktok.com/@.....shosha/video/7068558672414248194',\n",
       " 'https://www.tiktok.com/@.....shosha/video/7068979948765121793']"
      ]
     },
     "execution_count": 411,
     "metadata": {},
     "output_type": "execute_result"
    }
   ],
   "source": [
    "authors_videos = tk_df.groupby('author').video_url.apply(list)\n",
    "authors_videos.iloc[0]"
   ]
  },
  {
   "cell_type": "code",
   "execution_count": 412,
   "metadata": {},
   "outputs": [
    {
     "ename": "NameError",
     "evalue": "name 'upload_ban_days_ago' is not defined",
     "output_type": "error",
     "traceback": [
      "\u001b[0;31m---------------------------------------------------------------------------\u001b[0m",
      "\u001b[0;31mNameError\u001b[0m                                 Traceback (most recent call last)",
      "\u001b[0;32m<ipython-input-412-fdec8689aa06>\u001b[0m in \u001b[0;36m<module>\u001b[0;34m\u001b[0m\n\u001b[1;32m      3\u001b[0m     \u001b[0mtk_df\u001b[0m\u001b[0;34m.\u001b[0m\u001b[0mgroupby\u001b[0m\u001b[0;34m(\u001b[0m\u001b[0;34m'author'\u001b[0m\u001b[0;34m)\u001b[0m\u001b[0;34m.\u001b[0m\u001b[0manti_war_hashtag_count\u001b[0m\u001b[0;34m.\u001b[0m\u001b[0msum\u001b[0m\u001b[0;34m(\u001b[0m\u001b[0;34m)\u001b[0m\u001b[0;34m,\u001b[0m\u001b[0;34m\u001b[0m\u001b[0;34m\u001b[0m\u001b[0m\n\u001b[1;32m      4\u001b[0m     \u001b[0mtk_df\u001b[0m\u001b[0;34m.\u001b[0m\u001b[0mgroupby\u001b[0m\u001b[0;34m(\u001b[0m\u001b[0;34m'author'\u001b[0m\u001b[0;34m)\u001b[0m\u001b[0;34m.\u001b[0m\u001b[0mview_count\u001b[0m\u001b[0;34m.\u001b[0m\u001b[0msum\u001b[0m\u001b[0;34m(\u001b[0m\u001b[0;34m)\u001b[0m\u001b[0;34m,\u001b[0m\u001b[0;34m\u001b[0m\u001b[0;34m\u001b[0m\u001b[0m\n\u001b[0;32m----> 5\u001b[0;31m     \u001b[0mtk_df\u001b[0m\u001b[0;34m[\u001b[0m\u001b[0mtk_df\u001b[0m\u001b[0;34m.\u001b[0m\u001b[0mdays_ago\u001b[0m \u001b[0;34m<\u001b[0m \u001b[0mupload_ban_days_ago\u001b[0m\u001b[0;34m]\u001b[0m\u001b[0;34m.\u001b[0m\u001b[0mgroupby\u001b[0m\u001b[0;34m(\u001b[0m\u001b[0;34m'author'\u001b[0m\u001b[0;34m)\u001b[0m\u001b[0;34m.\u001b[0m\u001b[0mview_count\u001b[0m\u001b[0;34m.\u001b[0m\u001b[0msum\u001b[0m\u001b[0;34m(\u001b[0m\u001b[0;34m)\u001b[0m\u001b[0;34m.\u001b[0m\u001b[0mrename\u001b[0m\u001b[0;34m(\u001b[0m\u001b[0;34m'post_ban_view_count'\u001b[0m\u001b[0;34m)\u001b[0m\u001b[0;34m,\u001b[0m\u001b[0;34m\u001b[0m\u001b[0;34m\u001b[0m\u001b[0m\n\u001b[0m\u001b[1;32m      6\u001b[0m     \u001b[0mtk_df\u001b[0m\u001b[0;34m[\u001b[0m\u001b[0mtk_df\u001b[0m\u001b[0;34m.\u001b[0m\u001b[0mdays_ago\u001b[0m \u001b[0;34m>\u001b[0m \u001b[0mupload_ban_days_ago\u001b[0m\u001b[0;34m]\u001b[0m\u001b[0;34m.\u001b[0m\u001b[0mgroupby\u001b[0m\u001b[0;34m(\u001b[0m\u001b[0;34m'author'\u001b[0m\u001b[0;34m)\u001b[0m\u001b[0;34m.\u001b[0m\u001b[0mview_count\u001b[0m\u001b[0;34m.\u001b[0m\u001b[0msum\u001b[0m\u001b[0;34m(\u001b[0m\u001b[0;34m)\u001b[0m\u001b[0;34m.\u001b[0m\u001b[0mrename\u001b[0m\u001b[0;34m(\u001b[0m\u001b[0;34m'pre_ban_view_count'\u001b[0m\u001b[0;34m)\u001b[0m\u001b[0;34m,\u001b[0m\u001b[0;34m\u001b[0m\u001b[0;34m\u001b[0m\u001b[0m\n\u001b[1;32m      7\u001b[0m     \u001b[0mtk_df\u001b[0m\u001b[0;34m[\u001b[0m\u001b[0mtk_df\u001b[0m\u001b[0;34m.\u001b[0m\u001b[0mdays_ago\u001b[0m \u001b[0;34m<\u001b[0m \u001b[0mupload_ban_days_ago\u001b[0m\u001b[0;34m]\u001b[0m\u001b[0;34m.\u001b[0m\u001b[0mgroupby\u001b[0m\u001b[0;34m(\u001b[0m\u001b[0;34m'author'\u001b[0m\u001b[0;34m)\u001b[0m\u001b[0;34m.\u001b[0m\u001b[0muri\u001b[0m\u001b[0;34m.\u001b[0m\u001b[0mcount\u001b[0m\u001b[0;34m(\u001b[0m\u001b[0;34m)\u001b[0m\u001b[0;34m.\u001b[0m\u001b[0mrename\u001b[0m\u001b[0;34m(\u001b[0m\u001b[0;34m'post_ban_video_count'\u001b[0m\u001b[0;34m)\u001b[0m\u001b[0;34m,\u001b[0m\u001b[0;34m\u001b[0m\u001b[0;34m\u001b[0m\u001b[0m\n",
      "\u001b[0;31mNameError\u001b[0m: name 'upload_ban_days_ago' is not defined"
     ]
    }
   ],
   "source": [
    "export_df = pd.DataFrame([\n",
    "    tk_df.groupby('author').pro_kremlin_hashtag_count.sum(),\n",
    "    tk_df.groupby('author').anti_war_hashtag_count.sum(),\n",
    "    tk_df.groupby('author').view_count.sum(),\n",
    "    tk_df[tk_df.days_ago < upload_ban_days_ago].groupby('author').view_count.sum().rename('post_ban_view_count'),\n",
    "    tk_df[tk_df.days_ago > upload_ban_days_ago].groupby('author').view_count.sum().rename('pre_ban_view_count'),\n",
    "    tk_df[tk_df.days_ago < upload_ban_days_ago].groupby('author').uri.count().rename('post_ban_video_count'),\n",
    "    tk_df[tk_df.days_ago > upload_ban_days_ago].groupby('author').uri.count().rename('pre_ban_video_count'),\n",
    "    authors_videos\n",
    "]).T.fillna(0)"
   ]
  },
  {
   "cell_type": "code",
   "execution_count": 544,
   "metadata": {},
   "outputs": [],
   "source": [
    "export_df['url'] = 'https://www.tiktok.com/@' + export_df.index"
   ]
  },
  {
   "cell_type": "code",
   "execution_count": 545,
   "metadata": {},
   "outputs": [],
   "source": [
    "export_df.to_csv('../data/all_channels.csv', sep=';')"
   ]
  },
  {
   "cell_type": "code",
   "execution_count": 546,
   "metadata": {},
   "outputs": [
    {
     "data": {
      "text/plain": [
       "7309"
      ]
     },
     "execution_count": 546,
     "metadata": {},
     "output_type": "execute_result"
    }
   ],
   "source": [
    "len(export_df)"
   ]
  },
  {
   "cell_type": "markdown",
   "metadata": {},
   "source": [
    "# Investigate Videos"
   ]
  },
  {
   "cell_type": "code",
   "execution_count": 116,
   "metadata": {},
   "outputs": [],
   "source": [
    "subset = tk_df[tk_df.is_russian==1]\n",
    "# subset = subset[subset.pro_anti_war == 'pro_war']"
   ]
  },
  {
   "cell_type": "code",
   "execution_count": 118,
   "metadata": {},
   "outputs": [
    {
     "data": {
      "text/plain": [
       "0       2\n",
       "1       8\n",
       "2      11\n",
       "3       9\n",
       "4      18\n",
       "5      15\n",
       "6      30\n",
       "7      20\n",
       "8      19\n",
       "9      23\n",
       "10     29\n",
       "11    169\n",
       "12    166\n",
       "13    195\n",
       "14    191\n",
       "15    208\n",
       "16    183\n",
       "17    197\n",
       "18    115\n",
       "19     92\n",
       "20     77\n",
       "21     58\n",
       "22     35\n",
       "23     37\n",
       "24     37\n",
       "25     30\n",
       "26     25\n",
       "27     40\n",
       "28     24\n",
       "29    389\n",
       "Name: days_ago, dtype: int64"
      ]
     },
     "execution_count": 118,
     "metadata": {},
     "output_type": "execute_result"
    }
   ],
   "source": [
    "subset.days_ago.value_counts().sort_index().head(30)"
   ]
  },
  {
   "cell_type": "code",
   "execution_count": 119,
   "metadata": {},
   "outputs": [],
   "source": [
    "subset = subset[subset.days_ago == 10]"
   ]
  },
  {
   "cell_type": "code",
   "execution_count": 120,
   "metadata": {},
   "outputs": [],
   "source": [
    "subset = subset.sort_values('createTime')"
   ]
  },
  {
   "cell_type": "code",
   "execution_count": 121,
   "metadata": {},
   "outputs": [
    {
     "data": {
      "text/plain": [
       "29"
      ]
     },
     "execution_count": 121,
     "metadata": {},
     "output_type": "execute_result"
    }
   ],
   "source": [
    "len(subset)"
   ]
  },
  {
   "cell_type": "code",
   "execution_count": 110,
   "metadata": {},
   "outputs": [
    {
     "name": "stdout",
     "output_type": "stream",
     "text": [
      "https://www.tiktok.com/@tanyshkasolnwshko/video/7074140585463991553\n",
      "https://www.tiktok.com/@ramzzes_work/video/7074148695868017921\n",
      "https://www.tiktok.com/@taness1/video/7074240316685012226\n",
      "https://www.tiktok.com/@yaroslavawolf89/video/7074726151989562626\n",
      "https://www.tiktok.com/@almazov823/video/7074468585028062465\n",
      "https://www.tiktok.com/@w0wlipt/video/7074577321889615105\n",
      "https://www.tiktok.com/@jeonxhr_/video/7074216850338401537\n",
      "https://www.tiktok.com/@kris_official92/video/7074635897135828225\n",
      "https://www.tiktok.com/@w0wlipt/video/7074576839410208002\n",
      "https://www.tiktok.com/@verni_otechestvo_/video/7074215374576831750\n"
     ]
    }
   ],
   "source": [
    "for index, row in subset.sample(10).iterrows():\n",
    "    print('https://www.tiktok.com/@' + row.author + '/video/' + row.uri)"
   ]
  },
  {
   "cell_type": "markdown",
   "metadata": {},
   "source": [
    "11 days ago: 8/10\n",
    "\n",
    "10 days ago : 5/10\n",
    "\n",
    "9 days ago : 0/10\n",
    "\n",
    "8 days ago: 0/10\n",
    "\n",
    "7 days ago: 0/10\n"
   ]
  },
  {
   "cell_type": "code",
   "execution_count": null,
   "metadata": {},
   "outputs": [],
   "source": []
  }
 ],
 "metadata": {
  "kernelspec": {
   "display_name": "Python 3",
   "language": "python",
   "name": "python3"
  },
  "language_info": {
   "codemirror_mode": {
    "name": "ipython",
    "version": 3
   },
   "file_extension": ".py",
   "mimetype": "text/x-python",
   "name": "python",
   "nbconvert_exporter": "python",
   "pygments_lexer": "ipython3",
   "version": "3.7.4"
  }
 },
 "nbformat": 4,
 "nbformat_minor": 2
}
