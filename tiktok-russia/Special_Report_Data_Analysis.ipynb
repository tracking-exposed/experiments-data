{
 "cells": [
  {
   "cell_type": "markdown",
   "metadata": {},
   "source": [
    "# Tracking Exposed Special Report: Data Set Visualization\n",
    "\n",
    "\n",
    "## Content Restrictions on TikTok in Russia following the Ukrainian War\n",
    "## April 11, 2022"
   ]
  },
  {
   "cell_type": "markdown",
   "metadata": {},
   "source": [
    "## Import the Data"
   ]
  },
  {
   "cell_type": "code",
   "execution_count": 51,
   "metadata": {},
   "outputs": [],
   "source": [
    "import pandas as pd\n",
    "from datetime import datetime, timedelta"
   ]
  },
  {
   "cell_type": "code",
   "execution_count": 52,
   "metadata": {},
   "outputs": [],
   "source": [
    "data_path = 'data/'"
   ]
  },
  {
   "cell_type": "markdown",
   "metadata": {},
   "source": [
    "# LOAD THE DATASETS"
   ]
  },
  {
   "cell_type": "markdown",
   "metadata": {},
   "source": [
    "The different datasets are added in a dict:"
   ]
  },
  {
   "cell_type": "code",
   "execution_count": 53,
   "metadata": {},
   "outputs": [],
   "source": [
    "dfs = {}"
   ]
  },
  {
   "cell_type": "markdown",
   "metadata": {},
   "source": [
    "## SET 1: Pro-Kremlin Hashtags"
   ]
  },
  {
   "cell_type": "code",
   "execution_count": 54,
   "metadata": {},
   "outputs": [
    {
     "data": {
      "text/plain": [
       "(13091, 14)"
      ]
     },
     "execution_count": 54,
     "metadata": {},
     "output_type": "execute_result"
    }
   ],
   "source": [
    "dataframe_path = data_path + 'tk_df_pro_kremlin.pkl'\n",
    "tk_df_pro_kremlin = pd.read_pickle(dataframe_path)\n",
    "tk_df_pro_kremlin.shape"
   ]
  },
  {
   "cell_type": "markdown",
   "metadata": {},
   "source": [
    "**Label pro war**"
   ]
  },
  {
   "cell_type": "code",
   "execution_count": 55,
   "metadata": {},
   "outputs": [],
   "source": [
    "tk_df_pro_kremlin['pro_anti_war'] = 'pro_war'"
   ]
  },
  {
   "cell_type": "markdown",
   "metadata": {},
   "source": [
    "**Remove duplicates**"
   ]
  },
  {
   "cell_type": "code",
   "execution_count": 56,
   "metadata": {},
   "outputs": [
    {
     "data": {
      "text/plain": [
       "(5628, 15)"
      ]
     },
     "execution_count": 56,
     "metadata": {},
     "output_type": "execute_result"
    }
   ],
   "source": [
    "tk_df_pro_kremlin.drop_duplicates('uri', inplace=True)\n",
    "tk_df_pro_kremlin.shape"
   ]
  },
  {
   "cell_type": "code",
   "execution_count": 57,
   "metadata": {},
   "outputs": [],
   "source": [
    "dfs['pro_kremlin'] = tk_df_pro_kremlin"
   ]
  },
  {
   "cell_type": "markdown",
   "metadata": {},
   "source": [
    "## SET 2: Hand Curated Anti-war Hashtags"
   ]
  },
  {
   "cell_type": "code",
   "execution_count": 58,
   "metadata": {},
   "outputs": [
    {
     "data": {
      "text/plain": [
       "(16117, 14)"
      ]
     },
     "execution_count": 58,
     "metadata": {},
     "output_type": "execute_result"
    }
   ],
   "source": [
    "dataframe_path = data_path + 'tk_df_anti_war.pkl'\n",
    "tk_df_anti_war = pd.read_pickle(dataframe_path)\n",
    "tk_df_anti_war.shape"
   ]
  },
  {
   "cell_type": "markdown",
   "metadata": {},
   "source": [
    "**Label pro war**"
   ]
  },
  {
   "cell_type": "code",
   "execution_count": 59,
   "metadata": {},
   "outputs": [],
   "source": [
    "tk_df_anti_war['pro_anti_war'] = 'anti_war'"
   ]
  },
  {
   "cell_type": "markdown",
   "metadata": {},
   "source": [
    "**Remove duplicates**"
   ]
  },
  {
   "cell_type": "code",
   "execution_count": 60,
   "metadata": {},
   "outputs": [
    {
     "data": {
      "text/plain": [
       "(6244, 15)"
      ]
     },
     "execution_count": 60,
     "metadata": {},
     "output_type": "execute_result"
    }
   ],
   "source": [
    "tk_df_anti_war.drop_duplicates('uri', inplace=True)\n",
    "tk_df_anti_war.shape"
   ]
  },
  {
   "cell_type": "code",
   "execution_count": 61,
   "metadata": {},
   "outputs": [],
   "source": [
    "dfs['anti_war'] = tk_df_anti_war"
   ]
  },
  {
   "cell_type": "markdown",
   "metadata": {},
   "source": [
    "## Combine the datasets"
   ]
  },
  {
   "cell_type": "code",
   "execution_count": 62,
   "metadata": {},
   "outputs": [],
   "source": [
    "# concatenate the dataframes from all the datasets\n",
    "tk_df = pd.concat([df for df in dfs.values()])"
   ]
  },
  {
   "cell_type": "code",
   "execution_count": 63,
   "metadata": {},
   "outputs": [
    {
     "data": {
      "text/plain": [
       "(11872, 16)"
      ]
     },
     "execution_count": 63,
     "metadata": {},
     "output_type": "execute_result"
    }
   ],
   "source": [
    "# The default index corresponds to the rank (order) in the API response to the hashtag query\n",
    "tk_df['order'] = tk_df.index\n",
    "tk_df.reset_index(drop=True)\n",
    "tk_df.shape"
   ]
  },
  {
   "cell_type": "code",
   "execution_count": 64,
   "metadata": {},
   "outputs": [],
   "source": [
    "dfs['all'] = tk_df"
   ]
  },
  {
   "cell_type": "code",
   "execution_count": 65,
   "metadata": {},
   "outputs": [
    {
     "data": {
      "text/plain": [
       "anti_war    6244\n",
       "pro_war     5628\n",
       "Name: pro_anti_war, dtype: int64"
      ]
     },
     "execution_count": 65,
     "metadata": {},
     "output_type": "execute_result"
    }
   ],
   "source": [
    "tk_df.pro_anti_war.value_counts()"
   ]
  },
  {
   "cell_type": "markdown",
   "metadata": {},
   "source": [
    "## Hashtag distribution in the loaded dataset:"
   ]
  },
  {
   "cell_type": "code",
   "execution_count": 66,
   "metadata": {},
   "outputs": [
    {
     "data": {
      "text/plain": [
       "zанаших              1223\n",
       "путинхуйло           1063\n",
       "нетвойне             1049\n",
       "нетвойнесукраиной    1033\n",
       "противійни           1025\n",
       "путинкраш            1020\n",
       "путиннашпрезидент    1012\n",
       "ЯпротивВойны          997\n",
       "славаукраїні          991\n",
       "путинтоп              890\n",
       "zапутина              767\n",
       "zароссию              716\n",
       "япротиввойны           86\n",
       "Name: hashtag_query, dtype: int64"
      ]
     },
     "execution_count": 66,
     "metadata": {},
     "output_type": "execute_result"
    }
   ],
   "source": [
    "hashtag_counts = tk_df.hashtag_query.value_counts()\n",
    "seed_hashtags = list(hashtag_counts.index)\n",
    "hashtag_counts"
   ]
  },
  {
   "cell_type": "markdown",
   "metadata": {},
   "source": [
    "## Label if channels are available in Russia"
   ]
  },
  {
   "cell_type": "markdown",
   "metadata": {},
   "source": [
    "The channel_availability data was obtained through a script that tested whether each channel was available from a Russian IP address. "
   ]
  },
  {
   "cell_type": "code",
   "execution_count": 67,
   "metadata": {},
   "outputs": [],
   "source": [
    "is_russian_channel = pd.read_pickle(data_path + 'channel_availability.pkl')"
   ]
  },
  {
   "cell_type": "code",
   "execution_count": 68,
   "metadata": {},
   "outputs": [
    {
     "data": {
      "text/plain": [
       "7782"
      ]
     },
     "execution_count": 68,
     "metadata": {},
     "output_type": "execute_result"
    }
   ],
   "source": [
    "len(is_russian_channel)"
   ]
  },
  {
   "cell_type": "code",
   "execution_count": 69,
   "metadata": {},
   "outputs": [
    {
     "data": {
      "text/plain": [
       "4232"
      ]
     },
     "execution_count": 69,
     "metadata": {},
     "output_type": "execute_result"
    }
   ],
   "source": [
    "russian_channels = list(is_russian_channel[is_russian_channel==True].index)\n",
    "len(russian_channels)"
   ]
  },
  {
   "cell_type": "code",
   "execution_count": 70,
   "metadata": {},
   "outputs": [],
   "source": [
    "#Label if each channel is a Russian channel in the dataframes\n",
    "\n",
    "def add_is_russian(df, channels=is_russian_channel):\n",
    "    df.reset_index(inplace=True)\n",
    "    df['is_russian'] = -1\n",
    "    for i, row in df[df.author.isin(list(channels.index))].iterrows():\n",
    "        df.at[i, 'is_russian'] = int(channels[row.author])\n",
    "    return df\n"
   ]
  },
  {
   "cell_type": "code",
   "execution_count": 71,
   "metadata": {},
   "outputs": [
    {
     "name": "stdout",
     "output_type": "stream",
     "text": [
      "adding russian label to pro_kremlin\n",
      " 1    4725\n",
      " 0     902\n",
      "-1       1\n",
      "Name: is_russian, dtype: int64\n",
      "adding russian label to anti_war\n",
      "0    4550\n",
      "1    1694\n",
      "Name: is_russian, dtype: int64\n",
      "adding russian label to all\n",
      " 1    6419\n",
      " 0    5452\n",
      "-1       1\n",
      "Name: is_russian, dtype: int64\n"
     ]
    }
   ],
   "source": [
    "for key, df in dfs.items():\n",
    "    print('adding russian label to', key)\n",
    "    df = add_is_russian(df)\n",
    "    print(df.is_russian.value_counts())"
   ]
  },
  {
   "cell_type": "markdown",
   "metadata": {},
   "source": [
    "\n",
    "## Plot content age distribution"
   ]
  },
  {
   "cell_type": "code",
   "execution_count": 72,
   "metadata": {},
   "outputs": [],
   "source": [
    "analysis_end_date = datetime(2022, 4, 6, 0, 13, 8, 425257)"
   ]
  },
  {
   "cell_type": "markdown",
   "metadata": {},
   "source": [
    "We add a `days_ago` column to `tk_df` correponding to the number of days ago from now the content was published"
   ]
  },
  {
   "cell_type": "code",
   "execution_count": 73,
   "metadata": {},
   "outputs": [],
   "source": [
    "for df in dfs.values():\n",
    "    df['days_ago'] = df.createTime.apply(lambda x: (analysis_end_date - datetime.fromtimestamp(x)).days)"
   ]
  },
  {
   "cell_type": "markdown",
   "metadata": {},
   "source": [
    "We restrict the plot to the content published in the last month and a half:"
   ]
  },
  {
   "cell_type": "code",
   "execution_count": 74,
   "metadata": {},
   "outputs": [],
   "source": [
    "def counts_distribution(df, age_limit=45, \n",
    "                        categories ='is_russian', \n",
    "                        ylim=None, \n",
    "                        **kwargs):\n",
    "    #return tk_df.days_ago[tk_df.days_ago<age_limit].plot.hist(bins=age_limit)\n",
    "    plot_df = df[df.days_ago<age_limit]\n",
    "    plot_df = plot_df.groupby(['days_ago', categories]).size().unstack()\n",
    "    plot_df = plot_df[::-1]\n",
    "    ax = plot_df.plot(kind='bar', \n",
    "                      stacked=True,\n",
    "                      xticks=[],\n",
    "                      figsize = (15,8),\n",
    "                      fontsize = 15,\n",
    "                      ylim=ylim,\n",
    "                      #legend=False,\n",
    "                      #color = [(0.5,0.4,0.5), (0.75, 0.75, 0.25)],\n",
    "                      **kwargs)\n",
    "    ax.spines['top'].set_visible(False)\n",
    "    ax.spines['right'].set_visible(False)\n",
    "    #ax.spines['bottom'].set_visible(False)\n",
    "    #ax.spines['left'].set_visible(False)\n",
    "    x_axis = ax.axes.get_xaxis()\n",
    "    x_axis.set_label_text('')\n",
    "    return ax\n",
    "    "
   ]
  },
  {
   "cell_type": "code",
   "execution_count": 75,
   "metadata": {
    "scrolled": false
   },
   "outputs": [
    {
     "data": {
      "text/plain": [
       "<matplotlib.axes._subplots.AxesSubplot at 0x7f9648506050>"
      ]
     },
     "execution_count": 75,
     "metadata": {},
     "output_type": "execute_result"
    },
    {
     "data": {
      "image/png": "[encoded data removed]",
      "text/plain": [
       "<Figure size 1080x576 with 1 Axes>"
      ]
     },
     "metadata": {
      "needs_background": "light"
     },
     "output_type": "display_data"
    }
   ],
   "source": [
    "plot = counts_distribution(tk_df[(tk_df.is_russian==1)], categories='pro_anti_war', \n",
    "                           title='Content posted from Russian-based accounts')\n",
    "plot"
   ]
  },
  {
   "cell_type": "code",
   "execution_count": 76,
   "metadata": {},
   "outputs": [],
   "source": [
    "fig = plot.get_figure()\n",
    "fig.savefig('anti_pro_war_tiktok.svg')"
   ]
  }
 ],
 "metadata": {
  "kernelspec": {
   "display_name": "Python 3",
   "language": "python",
   "name": "python3"
  },
  "language_info": {
   "codemirror_mode": {
    "name": "ipython",
    "version": 3
   },
   "file_extension": ".py",
   "mimetype": "text/x-python",
   "name": "python",
   "nbconvert_exporter": "python",
   "pygments_lexer": "ipython3",
   "version": "3.7.4"
  }
 },
 "nbformat": 4,
 "nbformat_minor": 2
}
